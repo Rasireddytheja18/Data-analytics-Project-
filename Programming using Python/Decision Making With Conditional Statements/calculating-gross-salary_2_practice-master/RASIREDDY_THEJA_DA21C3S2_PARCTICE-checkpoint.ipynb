{
 "cells": [
  {
   "cell_type": "raw",
   "id": "4bfdae2d",
   "metadata": {},
   "source": [
    "# Task - 1 "
   ]
  },
  {
   "cell_type": "code",
   "execution_count": null,
   "id": "8277ce16",
   "metadata": {},
   "outputs": [],
   "source": [
    "alphabetic = input(\"enter a alphabetic :\")   # \n",
    "\n",
    "if  alphabetic == 'a':\n",
    "    print(\"Excel\")\n",
    "elif alphabetic == 'b':\n",
    "    print('MySQL')\n",
    "elif alphabetic == 'c':\n",
    "    print('Python')\n",
    "else:\n",
    "    print(\"Holiday\")\n",
    "    "
   ]
  },
  {
   "cell_type": "raw",
   "id": "523c9b7c",
   "metadata": {},
   "source": [
    "# Task - 2"
   ]
  },
  {
   "cell_type": "code",
   "execution_count": null,
   "id": "94f9ecb5",
   "metadata": {},
   "outputs": [],
   "source": [
    "a = int(input('enter a no :'))\n",
    "b = int(input('enter a no :'))\n",
    "\n",
    "if a > b  :\n",
    "    print('This is highest no :',a)\n",
    "else :\n",
    "    print('This is highest no :',b)\n",
    "\n"
   ]
  },
  {
   "cell_type": "raw",
   "id": "15a139ab",
   "metadata": {},
   "source": [
    "# Task - 3"
   ]
  },
  {
   "cell_type": "code",
   "execution_count": null,
   "id": "f3769850",
   "metadata": {},
   "outputs": [],
   "source": [
    "# Get the basic salary from the user.\n",
    "basic_salary = float(input(\"Enter your basic salary: \"))\n",
    "\n",
    "# Calculate the HRA and TA based on the basic salary range.\n",
    "if basic_salary < 4000:\n",
    "    hra = basic_salary * 0.1\n",
    "    ta = basic_salary * 0.05\n",
    "elif basic_salary >= 4001 and basic_salary <= 10000:\n",
    "    hra = basic_salary * 0.1\n",
    "    ta = basic_salary * 0.1\n",
    "else:\n",
    "    hra = basic_salary * 0.15\n",
    "    ta = basic_salary * 0.15\n",
    "\n",
    "# Calculate the annual gross salary.\n",
    "gross_salary = (basic_salary + hra + ta) * 12\n",
    "\n",
    "# Display the annual gross salary to the user.\n",
    "print(\"Your annual gross salary is:\", gross_salary)"
   ]
  },
  {
   "cell_type": "raw",
   "id": "80b90e9d",
   "metadata": {},
   "source": [
    "# Task - 4"
   ]
  },
  {
   "cell_type": "code",
   "execution_count": null,
   "id": "15a927a0",
   "metadata": {},
   "outputs": [],
   "source": [
    "var = '''Python is an interpreted, high-level, general-purpose programming language. \n",
    "Its design philosophy emphasizes code readability, with its use of significant indentation.\n",
    "Its language constructs as well as its object-oriented approach aim to help programmers write clear, \n",
    "logical code for small and large-scale projects.'''\n",
    "word = input(\"Enter a word: \")\n",
    "\n",
    "# the word exists in the variable are not`var`.\n",
    "if word in var:\n",
    "    print(\"YES\")\n",
    "else:\n",
    "    print(\"NO\")\n"
   ]
  },
  {
   "cell_type": "raw",
   "id": "e5f33e5e",
   "metadata": {},
   "source": [
    "# Task - 5"
   ]
  },
  {
   "cell_type": "code",
   "execution_count": 3,
   "id": "312f1a01",
   "metadata": {},
   "outputs": [
    {
     "name": "stdout",
     "output_type": "stream",
     "text": [
      "enter the alphabet =K\n",
      "UPPERCASE\n"
     ]
    }
   ],
   "source": [
    "alphabet = input(\"enter the alphabet =\")\n",
    "\n",
    "# Check if the input is uppercase or lowercase\n",
    "if alphabet.isupper():\n",
    "    print('UPPERCASE')\n",
    "else:\n",
    "    print('lowerCase')"
   ]
  },
  {
   "cell_type": "raw",
   "id": "c4363d0a",
   "metadata": {},
   "source": [
    "# Task - 6"
   ]
  },
  {
   "cell_type": "code",
   "execution_count": 2,
   "id": "65ae461a",
   "metadata": {},
   "outputs": [
    {
     "name": "stdout",
     "output_type": "stream",
     "text": [
      "enter a alphabet:e\n",
      "It is vowel\n"
     ]
    }
   ],
   "source": [
    "alphabet = input(\"enter a alphabet:\")\n",
    "\n",
    "vowel = 'aeiou'\n",
    "\n",
    "if alphabet in vowel:\n",
    "    print('It is vowel')\n",
    "else:\n",
    "    print(\"it is consonant \")"
   ]
  },
  {
   "cell_type": "code",
   "execution_count": null,
   "id": "ad515603",
   "metadata": {},
   "outputs": [],
   "source": []
  }
 ],
 "metadata": {
  "kernelspec": {
   "display_name": "Python 3 (ipykernel)",
   "language": "python",
   "name": "python3"
  },
  "language_info": {
   "codemirror_mode": {
    "name": "ipython",
    "version": 3
   },
   "file_extension": ".py",
   "mimetype": "text/x-python",
   "name": "python",
   "nbconvert_exporter": "python",
   "pygments_lexer": "ipython3",
   "version": "3.11.5"
  }
 },
 "nbformat": 4,
 "nbformat_minor": 5
}

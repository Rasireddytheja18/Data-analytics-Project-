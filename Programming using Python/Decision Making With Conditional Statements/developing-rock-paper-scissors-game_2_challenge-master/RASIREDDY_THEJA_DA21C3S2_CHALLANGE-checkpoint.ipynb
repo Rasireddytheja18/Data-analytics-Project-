{
 "cells": [
  {
   "cell_type": "code",
   "execution_count": 2,
   "id": "da55faf8",
   "metadata": {},
   "outputs": [
    {
     "name": "stdout",
     "output_type": "stream",
     "text": [
      "Enter a year (between 1900 and 2100): 1999\n",
      "it's not a leap year\n"
     ]
    }
   ],
   "source": [
    "# task 1\n",
    "user_year = int(input(\"Enter a year (between 1900 and 2100): \"))\n",
    "\n",
    "if user_year % 4 == 0:\n",
    "    print('it is a leap year:',user_year)\n",
    "else:\n",
    "    print(\"it's not a leap year\")"
   ]
  },
  {
   "cell_type": "code",
   "execution_count": 3,
   "id": "f70ee90c",
   "metadata": {},
   "outputs": [
    {
     "name": "stdout",
     "output_type": "stream",
     "text": [
      "Enter a number between 1 and 12: 7\n",
      "The month is July and it has 31 days.\n"
     ]
    }
   ],
   "source": [
    "#task 2\n",
    "user_month = int(input(\"Enter a number between 1 and 12: \"))\n",
    "\n",
    "month_names = [\"January\", \"February\", \"March\", \"April\", \"May\", \"June\",\"July\", \"August\", \"September\", \n",
    "               \"October\", \"November\", \"December\"]\n",
    "\n",
    "days_in_month = [31, 28, 31, 30, 31, 30, 31, 31, 30, 31, 30, 31]\n",
    "\n",
    "if 1 <= user_month <= 12:\n",
    "\n",
    "    month_name = month_names[user_month - 1]\n",
    "    num_days = days_in_month[user_month - 1]\n",
    "    \n",
    "    print(f\"The month is {month_name} and it has {num_days} days.\")\n",
    "else:\n",
    "    print(\"Error: Please enter a number between 1 and 12.\")\n"
   ]
  },
  {
   "cell_type": "code",
   "execution_count": 1,
   "id": "71799bd5",
   "metadata": {},
   "outputs": [
    {
     "name": "stdout",
     "output_type": "stream",
     "text": [
      "Enter the total bill amount: 14\n",
      "14.0\n"
     ]
    }
   ],
   "source": [
    "# task 3\n",
    "total_bill = float(input(\"Enter the total bill amount: \"))\n",
    "\n",
    "if total_bill <= 100:\n",
    "    discount_percentage = 0\n",
    "    discount = (discount_percentage / 100) * total_bill\n",
    "    final_bill = total_bill - discount\n",
    "    print(final_bill)\n",
    "elif 100 <= total_bill <= 150:    \n",
    "    discount_percentage = 10\n",
    "    discount = (discount_percentage / 100) * total_bill\n",
    "    final_bill = total_bill - discount\n",
    "    print(final_bill)\n",
    "elif 150 <= total_bill <= 250:\n",
    "    discount_percentage = 15\n",
    "    discount = (discount_percentage / 100) * total_bill\n",
    "    final_bill = total_bill - discount\n",
    "    print(final_bill)\n",
    "elif total_bill >= 250:\n",
    "    discount_percentage = 25\n",
    "    discount = (discount_percentage / 100) * total_bill\n",
    "    final_bill = total_bill - discount\n",
    "    print(final_bill)\n",
    "else:\n",
    "    print('you enter the worng amount.')"
   ]
  },
  {
   "cell_type": "code",
   "execution_count": 2,
   "id": "514e08db",
   "metadata": {},
   "outputs": [
    {
     "name": "stdout",
     "output_type": "stream",
     "text": [
      "Enter a choice (rock, paper, scissors): rock\n",
      "Player: rock\n",
      "Computer: rock\n",
      "It's a tie!\n"
     ]
    }
   ],
   "source": [
    "# task 4\n",
    "import random \n",
    "# Here i took the import function random\n",
    "\n",
    "options = (\"rock\", \"paper\", \"scissors\")\n",
    "computer = random.choice(options)\n",
    "\n",
    "player = input(\"Enter a choice (rock, paper, scissors): \")\n",
    "\n",
    "print('Player:', player)\n",
    "print('Computer:',computer)\n",
    "\n",
    "if player == computer:\n",
    "    print(\"It's a tie!\")\n",
    "elif player == \"rock\" and computer == \"scissors\":\n",
    "    print(\"You win!\")\n",
    "elif player == \"paper\" and computer == \"rock\":\n",
    "    print(\"You win!\")\n",
    "elif player == \"scissors\" and computer == \"paper\":\n",
    "    print(\"You win!\")\n",
    "else:\n",
    "    print(\"You lose!\")"
   ]
  },
  {
   "cell_type": "code",
   "execution_count": null,
   "id": "01493fa2",
   "metadata": {},
   "outputs": [],
   "source": []
  }
 ],
 "metadata": {
  "kernelspec": {
   "display_name": "Python 3 (ipykernel)",
   "language": "python",
   "name": "python3"
  },
  "language_info": {
   "codemirror_mode": {
    "name": "ipython",
    "version": 3
   },
   "file_extension": ".py",
   "mimetype": "text/x-python",
   "name": "python",
   "nbconvert_exporter": "python",
   "pygments_lexer": "ipython3",
   "version": "3.11.5"
  }
 },
 "nbformat": 4,
 "nbformat_minor": 5
}

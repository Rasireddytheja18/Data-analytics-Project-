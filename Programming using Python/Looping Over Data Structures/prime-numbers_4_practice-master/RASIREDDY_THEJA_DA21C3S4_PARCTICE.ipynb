{
 "cells": [
  {
   "cell_type": "markdown",
   "id": "876cae57",
   "metadata": {},
   "source": [
    "### Task - 1"
   ]
  },
  {
   "cell_type": "code",
   "execution_count": 1,
   "id": "3c406903",
   "metadata": {},
   "outputs": [
    {
     "name": "stdout",
     "output_type": "stream",
     "text": [
      "enter a number :5\n",
      "factorial of 5 is 120\n"
     ]
    }
   ],
   "source": [
    "# here i take input from the user\n",
    "n = int(input('enter a number :'))\n",
    "\n",
    "\n",
    "# factorial is never be 0\n",
    "if (n < 0):\n",
    "    print('enter a valid no')\n",
    "    \n",
    "    \n",
    "elif (n == 0):\n",
    "    print('factorial of 0 is 1')\n",
    "else:                              # here itake for loop range (1,n+1)\n",
    "    mul = 1                        \n",
    "    for i in range(1,n + 1):       # multiple with i * mil \n",
    "        mul = mul * i\n",
    "    print('factorial of',n,'is',mul)  "
   ]
  },
  {
   "cell_type": "markdown",
   "id": "cf4b831a",
   "metadata": {},
   "source": [
    "### Task - 2"
   ]
  },
  {
   "cell_type": "code",
   "execution_count": 32,
   "id": "0f4bb7d0",
   "metadata": {},
   "outputs": [
    {
     "name": "stdout",
     "output_type": "stream",
     "text": [
      "it's not prime number : 50\n",
      "it's not prime number : 51\n"
     ]
    }
   ],
   "source": [
    "# here took for loop range od 50 to 52 \n",
    "for i in range(50,52):\n",
    "    for j in range(2,i):\n",
    "        if (i % j == 0):          # when num is divisble by 0 it's nat a prime number \n",
    "            print(\"it's not prime number :\",i)\n",
    "            break\n",
    "    else:                         \n",
    "        print(\"it is prime number :\",i)\n",
    "    "
   ]
  },
  {
   "cell_type": "markdown",
   "id": "aedc6b4e",
   "metadata": {},
   "source": [
    "### Task - 3"
   ]
  },
  {
   "cell_type": "code",
   "execution_count": 5,
   "id": "d6d2c3cb",
   "metadata": {},
   "outputs": [
    {
     "name": "stdout",
     "output_type": "stream",
     "text": [
      "enter a five digit number :3456\n",
      "6\n",
      "5\n",
      "4\n",
      "3\n",
      "The sum of the digits is: 18\n"
     ]
    }
   ],
   "source": [
    "# here i get the input from user\n",
    "num = int(input(\"enter a five digit number :\"))\n",
    "\n",
    "sum_of_digits = 0\n",
    "\n",
    "# use if condition statement 1 to 100000 should b/w in\n",
    "if 1 <= num <= 100000: \n",
    "    while num > 0:         # inside if statement we use while loop num grater than 0 exit the loop\n",
    "        digit = num % 10\n",
    "        print(digit)\n",
    "        num = num // 10\n",
    "        \n",
    "        # when we get value digit store in sum_of_digits and add it\n",
    "        sum_of_digits = sum_of_digits + digit\n",
    "    print(\"The sum of the digits is:\",sum_of_digits)\n",
    "else:\n",
    "    print(\"Invalid input. Please enter a five-digit number.\")"
   ]
  },
  {
   "cell_type": "markdown",
   "id": "6ac0796f",
   "metadata": {},
   "source": [
    "### Task - 4"
   ]
  },
  {
   "cell_type": "code",
   "execution_count": 43,
   "id": "c88eaafd",
   "metadata": {},
   "outputs": [
    {
     "name": "stdout",
     "output_type": "stream",
     "text": [
      "enter a no:8\n",
      "0\n",
      "1\n",
      "1\n",
      "2\n",
      "3\n",
      "5\n",
      "8\n",
      "13\n"
     ]
    }
   ],
   "source": [
    "# here i get the input from user\n",
    "n = int(input('enter a no:'))\n",
    "# 0,1,1,2,3,5,8,.... fibonacci is start with 0 and 1\n",
    "n1 = 0\n",
    "n2 = 1\n",
    "count = 0\n",
    "if (n <= 0):\n",
    "    print('enter a valid number.')\n",
    "elif (n == 1):\n",
    "    print('fibonacci series start 0 is 1!')\n",
    "else:\n",
    "    # here using while loop count is less than n out of the loop \n",
    "    while(count < n):\n",
    "        print(n1)\n",
    "        nextnumber = n1+n2   # first add n1 + n2 values\n",
    "        n1 = n2              # here i use swaping method n2 value equal to n1 \n",
    "        n2 = nextnumber      # here nextnumber equal to n2 assign value and then count it\n",
    "        count = count + 1"
   ]
  },
  {
   "cell_type": "markdown",
   "id": "59846767",
   "metadata": {},
   "source": [
    "### Task - 5"
   ]
  },
  {
   "cell_type": "code",
   "execution_count": 11,
   "id": "6f45f51d",
   "metadata": {},
   "outputs": [
    {
     "name": "stdout",
     "output_type": "stream",
     "text": [
      "1700512387456\n",
      "1700512578304\n"
     ]
    }
   ],
   "source": [
    "t1 = (1,2,3)      \n",
    "t2 = (4,5,6)\n",
    "print(id(t1))\n",
    "print(id(t2))\n",
    "\n",
    "# created two tuples t1 and t2 with their own distinct memory addresses."
   ]
  },
  {
   "cell_type": "code",
   "execution_count": 12,
   "id": "2a0a1b6e",
   "metadata": {},
   "outputs": [
    {
     "name": "stdout",
     "output_type": "stream",
     "text": [
      "1700512345984\n"
     ]
    }
   ],
   "source": [
    "t1 = t1 + t2       #  the memory address of t1 changes after the concatenation operation because it now refers to a new tuple.\n",
    "print(id(t1))\n"
   ]
  },
  {
   "cell_type": "markdown",
   "id": "02132b73",
   "metadata": {},
   "source": [
    "### Task - 6"
   ]
  },
  {
   "cell_type": "code",
   "execution_count": 13,
   "id": "c77052a3",
   "metadata": {},
   "outputs": [
    {
     "name": "stdout",
     "output_type": "stream",
     "text": [
      "{70, 10, 20, 30, 33, 40, 50, 55, 60}\n"
     ]
    }
   ],
   "source": [
    "m = {10,20,30,40,50}\n",
    "n = [33,40,55,60,70]\n",
    "\n",
    "# updates the set m by adding the elements from the list n to it.\n",
    "# sets do not allow duplicate elements, any duplicates in n will be ignored.\n",
    "m.update(n)\n",
    "\n",
    "print(m)\n",
    "\n"
   ]
  },
  {
   "cell_type": "markdown",
   "id": "fa1fb366",
   "metadata": {},
   "source": [
    "### Task - 7"
   ]
  },
  {
   "cell_type": "code",
   "execution_count": 6,
   "id": "8c417439",
   "metadata": {},
   "outputs": [
    {
     "name": "stdout",
     "output_type": "stream",
     "text": [
      "Key: Data Value: 2\n",
      "Key: SOL Value: 4\n",
      "Key: .net Value: 6\n"
     ]
    }
   ],
   "source": [
    "# creates a dictionary with keys and corresponding values.\n",
    "Data_Set = {'Python': 1, 'Data': 2, 'Excel': 3, 'SOL': 4, 'java': 5, '.net': 6}\n",
    "\n",
    "#  initializes a variable i to 0. This will be used as an index for accessing keys and values.\n",
    "i = 0\n",
    "keys = list(Data_Set.keys())   # list of keys from the dictionary.\n",
    "values = list(Data_Set.values()) #  list of values from the dictionary.\n",
    "\n",
    "# The while loop starts. It will continue as long as i is less than the length of Data_Set.\n",
    "while i < len(Data_Set):\n",
    "    # checks if the value at index i is even.\n",
    "    if values[i] % 2 == 0:\n",
    "        # If the condition is true, it prints the key and value.\n",
    "         print('Key:',keys[i] , 'Value:',values[i])\n",
    "    i = i + 1\n",
    "    \n",
    "            \n",
    "            "
   ]
  },
  {
   "cell_type": "markdown",
   "id": "84f20c3c",
   "metadata": {},
   "source": [
    "### Task - 8"
   ]
  },
  {
   "cell_type": "code",
   "execution_count": 54,
   "id": "b8b5ea11",
   "metadata": {},
   "outputs": [
    {
     "name": "stdout",
     "output_type": "stream",
     "text": [
      "{1: 1, 2: 4, 3: 9, 4: 16, 5: 25, 6: 36, 7: 49, 8: 64, 9: 81, 10: 100, 11: 121, 12: 144, 13: 169, 14: 196, 15: 225}\n",
      "Updated Dictionary:\n",
      "{1: 1, 2: 4, 3: 9, 4: 16, 5: 25, 6: 36, 7: 49, 8: 64, 9: 81, 10: 100, 11: 121, 12: 144, 13: 169, 14: 196, 15: 225, 100: 10000}\n"
     ]
    }
   ],
   "source": [
    "# take  empty dictionary\n",
    "squares_dict = {}\n",
    "\n",
    "# for loop iterates over the range from 1 to 16\n",
    "for i in range(1, 16):\n",
    "    # each number i in this range, it computes i**2 (the square of i) \n",
    "    # and adds an entry to squares_dict where the key is i and the value is i**2.\n",
    "    squares_dict[i] = i**2\n",
    "print(squares_dict)\n",
    "\n",
    "# here i update diretly values \n",
    "new_dict = {100:10000}\n",
    "squares_dict.update(new_dict)\n",
    "\n",
    "print(\"Updated Dictionary:\")\n",
    "print(squares_dict)\n"
   ]
  },
  {
   "cell_type": "code",
   "execution_count": null,
   "id": "9a3ff70b",
   "metadata": {},
   "outputs": [],
   "source": []
  }
 ],
 "metadata": {
  "kernelspec": {
   "display_name": "Python 3 (ipykernel)",
   "language": "python",
   "name": "python3"
  },
  "language_info": {
   "codemirror_mode": {
    "name": "ipython",
    "version": 3
   },
   "file_extension": ".py",
   "mimetype": "text/x-python",
   "name": "python",
   "nbconvert_exporter": "python",
   "pygments_lexer": "ipython3",
   "version": "3.11.5"
  }
 },
 "nbformat": 4,
 "nbformat_minor": 5
}

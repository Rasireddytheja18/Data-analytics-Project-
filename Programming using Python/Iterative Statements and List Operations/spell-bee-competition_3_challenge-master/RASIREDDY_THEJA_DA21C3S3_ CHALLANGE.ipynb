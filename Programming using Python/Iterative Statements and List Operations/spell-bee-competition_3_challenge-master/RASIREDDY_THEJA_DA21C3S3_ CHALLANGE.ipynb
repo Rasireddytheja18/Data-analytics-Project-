{
 "cells": [
  {
   "cell_type": "markdown",
   "id": "71a9fc8b",
   "metadata": {},
   "source": [
    "### Task - 1"
   ]
  },
  {
   "cell_type": "code",
   "execution_count": 39,
   "id": "0e6d8910",
   "metadata": {},
   "outputs": [
    {
     "name": "stdout",
     "output_type": "stream",
     "text": [
      "Enter the name of the new student: jaggu\n",
      "Enter the name of the new student: mosh\n",
      "Enter the name of the new student: lucy\n",
      "Enter the name of the new student: mike\n",
      "Enter the name of the new student: jonny\n",
      "['Mark Antony', 'John Chan', 'Bret Lee', 'Jim Nick', 'Janice Ken', 'Florida Thomson', 'Lily Jason', 'Matt Antony', 'Mark Thomas', 'Kenny Peterson', 'Joe Cook', 'Alexander Thomas', 'Katy Perry', 'Alexanderia Peterson', 'Mark Antony', 'jaggu', 'mosh', 'lucy', 'mike', 'jonny']\n"
     ]
    }
   ],
   "source": [
    "data= [\"Mark Antony\",\"John Chan\",\"Bret Lee\",\"Jim Nick\",\"Janice Ken\",\"Florida Thomson\",\"Lily Jason\",\"Matt Antony\",\"Mark Thomas\",\n",
    "      \"Kenny Peterson\",\"Joe Cook\",\"Alexander Thomas\",\"Katy Perry\",\"Alexanderia Peterson\",\"Mark Antony\"]\n",
    "\n",
    "students = data\n",
    "\n",
    "# creating an empty list \n",
    "new_students = []\n",
    "\n",
    "# You're using a loop to ask the user to input the names of five new students.\n",
    "for i in range(5):\n",
    "    # appended to the new_students list.\n",
    "    new_students.append(input(\"Enter the name of the new student: \"))\n",
    "\n",
    "for j in new_students:\n",
    "    students.append(j)\n",
    "    \n",
    "#  print out the combined list students.    \n",
    "print(students)\n",
    "#print(new_students)"
   ]
  },
  {
   "cell_type": "markdown",
   "id": "010fb9fa",
   "metadata": {},
   "source": [
    "### Task - 2"
   ]
  },
  {
   "cell_type": "code",
   "execution_count": 30,
   "id": "3f795fb0",
   "metadata": {},
   "outputs": [
    {
     "name": "stdout",
     "output_type": "stream",
     "text": [
      "the last five students sign up: jonny\n",
      "the last five students sign up: mike\n",
      "the last five students sign up: lucy\n",
      "the last five students sign up: mosh\n",
      "the last five students sign up: jaggu\n",
      "jonny , mike , lucy , mosh , jaggu , Mark Antony , Alexanderia Peterson , Katy Perry , Alexander Thomas , Joe Cook , Kenny Peterson , Mark Thomas , Matt Antony , Lily Jason , Florida Thomson , Janice Ken , Jim Nick , Bret Lee , John Chan , Mark Antony , "
     ]
    }
   ],
   "source": [
    "#refer to the same list as students\n",
    "last_student = students\n",
    "\n",
    "#  creates an empty list \n",
    "last1_students = []\n",
    "\n",
    "# This loop iterates over the last five elements of the students list in reverse order.\n",
    "for i in students[:-6:-1]:\n",
    "    print('the last five students sign up:',i)\n",
    "    \n",
    "    # append [] last1_students\n",
    "    last1_students.append(i)\n",
    "    \n",
    "    # here reversed all students\n",
    "for last_student in  reversed(students):\n",
    "    print(last_student,end = ' , ')\n"
   ]
  },
  {
   "cell_type": "markdown",
   "id": "d7fc507b",
   "metadata": {},
   "source": [
    "### Task - 3"
   ]
  },
  {
   "cell_type": "code",
   "execution_count": 12,
   "id": "2b9563c9",
   "metadata": {},
   "outputs": [
    {
     "name": "stdout",
     "output_type": "stream",
     "text": [
      "reverse data: ['jonny', 'mike', 'lucy', 'mosh', 'jaggu', 'Mark Antony', 'Alexanderia Peterson', 'Katy Perry', 'Alexander Thomas', 'Joe Cook', 'Kenny Peterson', 'Mark Thomas', 'Matt Antony', 'Lily Jason', 'Florida Thomson', 'Janice Ken', 'Jim Nick', 'Bret Lee', 'John Chan', 'Mark Antony']\n"
     ]
    }
   ],
   "source": [
    "students \n",
    "# here use slicing to reversed all list item\n",
    "a = students[::-1]\n",
    "\n",
    "print('reverse data:',a)"
   ]
  },
  {
   "cell_type": "markdown",
   "id": "45133894",
   "metadata": {},
   "source": [
    "### Task - 5"
   ]
  },
  {
   "cell_type": "code",
   "execution_count": 3,
   "id": "f08bb76e",
   "metadata": {},
   "outputs": [
    {
     "name": "stdout",
     "output_type": "stream",
     "text": [
      "['Alexander Thomas', 'Alexanderia Peterson', 'Bret Lee', 'Florida Thomson', 'Janice Ken', 'Jim Nick', 'Joe Cook', 'John Chan', 'Katy Perry', 'Kenny Peterson', 'Lily Jason', 'Mark Antony', 'Mark Antony', 'Mark Thomas', 'Matt Antony', 'jaggu', 'jonny', 'lucy', 'mike', 'mosh']\n"
     ]
    }
   ],
   "source": [
    "students =  ['Mark Antony', 'John Chan', 'Bret Lee', 'Jim Nick', 'Janice Ken', 'Florida Thomson', 'Lily Jason',\n",
    "            'Matt Antony', 'Mark Thomas', 'Kenny Peterson', 'Joe Cook', 'Alexander Thomas', \n",
    "            'Katy Perry', 'Alexanderia Peterson', 'Mark Antony', 'jaggu', 'mosh', 'lucy', 'mike', 'jonny']\n",
    "\n",
    "\n",
    "data1 = sorted(students)\n",
    "\n",
    "print(data1)"
   ]
  },
  {
   "cell_type": "markdown",
   "id": "a9863215",
   "metadata": {},
   "source": [
    "### Task - 7"
   ]
  },
  {
   "cell_type": "code",
   "execution_count": 39,
   "id": "1eb028ef",
   "metadata": {},
   "outputs": [
    {
     "name": "stdout",
     "output_type": "stream",
     "text": [
      "560 567 574 581 588 595 602 609 616 623 630 637 644 651 658 665 672 \n",
      "The total no of divide by 7 in b/w 555 to 678 : 17\n"
     ]
    }
   ],
   "source": [
    "count = 0\n",
    "\n",
    "#  loop iterates over numbers in the range from 555 to 677.\n",
    "for i in range(555,678):\n",
    "    # number i is divisible by 7.\n",
    "    if i % 7 == 0 :\n",
    "        count = count + 1\n",
    "        print(i,end=' ')\n",
    "print(\"\\nThe total no of divide by 7 in b/w 555 to 678 :\",count)        "
   ]
  },
  {
   "cell_type": "markdown",
   "id": "ddd6c8a6",
   "metadata": {},
   "source": [
    "### Task - 9"
   ]
  },
  {
   "cell_type": "code",
   "execution_count": 44,
   "id": "a88b89a7",
   "metadata": {},
   "outputs": [
    {
     "name": "stdout",
     "output_type": "stream",
     "text": [
      "[20, 22, 20, 19, 20, 20, 20, 52]\n"
     ]
    }
   ],
   "source": [
    "firstlist = [1,21,3,4,6,7,18,41]\n",
    "secondlist = [19,1,17,15,14,13,2,11]\n",
    "thirdlist = []\n",
    "\n",
    "for i in range(0, len(firstlist)):\n",
    "    thirdlist.append(firstlist[i] + secondlist[i])        # Calculate the sum of elements\n",
    "    \n",
    "\n",
    "print(thirdlist)"
   ]
  },
  {
   "cell_type": "code",
   "execution_count": null,
   "id": "8d792bb5",
   "metadata": {},
   "outputs": [],
   "source": []
  }
 ],
 "metadata": {
  "kernelspec": {
   "display_name": "Python 3 (ipykernel)",
   "language": "python",
   "name": "python3"
  },
  "language_info": {
   "codemirror_mode": {
    "name": "ipython",
    "version": 3
   },
   "file_extension": ".py",
   "mimetype": "text/x-python",
   "name": "python",
   "nbconvert_exporter": "python",
   "pygments_lexer": "ipython3",
   "version": "3.11.5"
  }
 },
 "nbformat": 4,
 "nbformat_minor": 5
}

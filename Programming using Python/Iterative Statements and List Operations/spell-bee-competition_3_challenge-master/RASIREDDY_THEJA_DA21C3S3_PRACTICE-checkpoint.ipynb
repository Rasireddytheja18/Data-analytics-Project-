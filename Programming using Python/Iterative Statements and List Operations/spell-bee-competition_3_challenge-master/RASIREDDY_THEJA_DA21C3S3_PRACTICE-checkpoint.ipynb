{
 "cells": [
  {
   "cell_type": "markdown",
   "id": "4cb746b0",
   "metadata": {},
   "source": [
    "### Task 1 : Searching a List"
   ]
  },
  {
   "cell_type": "code",
   "execution_count": null,
   "id": "5b993764",
   "metadata": {},
   "outputs": [],
   "source": [
    "# In the list below, how would you check for the presence of the data item USA ?\n",
    "\n",
    "\n",
    "\n",
    "mynames = [\"Joe\", \"Zoe\", \"world\", \"Brad\", \"Angeiina\" , \"world\" , \"Zuki\" , \"Tom\" , \"Paris\" , \"world\" , \"magic\"]\n",
    "\n",
    "if \"Usa\" in mynames:\n",
    "    print('True')\n",
    "else:\n",
    "    print(\"False\")"
   ]
  },
  {
   "cell_type": "markdown",
   "id": "6a53268b",
   "metadata": {},
   "source": [
    "### Task 2: Frequency Counts of Elements in a List"
   ]
  },
  {
   "cell_type": "code",
   "execution_count": null,
   "id": "4a122dd2",
   "metadata": {},
   "outputs": [],
   "source": [
    "# How would you identify the number of times the data item world is present in the following data?\n",
    "\n",
    "mynames = [\"Joe\", \"Zoe\", \"world\", \"Brad\", \"Angeiina\" , \"world\" , \"Zuki\" , \"Tom\" , \"Paris\" , \"world\" , \"magic\"]\n",
    "\n",
    "count = 0\n",
    "\n",
    "for name in mynames:\n",
    "    if 'world' == name:\n",
    "        count = count + 1\n",
    "        \n",
    "print('Total no.of world in list :',count)"
   ]
  },
  {
   "cell_type": "markdown",
   "id": "068e6d80",
   "metadata": {},
   "source": [
    "### Task 3: Looping Over a List"
   ]
  },
  {
   "cell_type": "code",
   "execution_count": 1,
   "id": "86cbb66b",
   "metadata": {},
   "outputs": [
    {
     "name": "stdout",
     "output_type": "stream",
     "text": [
      "total even no : 14\n",
      "total odd no : 15\n"
     ]
    }
   ],
   "source": [
    "# Write a program to count the total number of even and odd numbers in the list defined below. numlist = List(range(1,30))\n",
    "\n",
    "evencount = 0\n",
    "oddcount = 0\n",
    "for i in range(1,30):\n",
    "    if (i % 2 == 0):\n",
    "        evencount = evencount + 1\n",
    "    else:\n",
    "        oddcount = oddcount + 1\n",
    "\n",
    "print('total even no :',evencount)        \n",
    "print('total odd no :',oddcount)        "
   ]
  },
  {
   "cell_type": "markdown",
   "id": "e1a3a077",
   "metadata": {},
   "source": [
    "### Task 5: Arithmetic Operations on List Elements"
   ]
  },
  {
   "cell_type": "code",
   "execution_count": 8,
   "id": "7ef077fa",
   "metadata": {},
   "outputs": [
    {
     "name": "stdout",
     "output_type": "stream",
     "text": [
      "1 3 5 7 9 11 13 15 17 19 21 23 25 27 29 the last two odd number is : [27, 29]\n"
     ]
    }
   ],
   "source": [
    "# Print the last two odd numbers from m-unList. numList = (range (1,30))\n",
    "\n",
    "numList = list (range (1,30))\n",
    "count = 0\n",
    "oddnum = []\n",
    "\n",
    "for i in numList:\n",
    "    if i % 2 == 1:\n",
    "        count = count + 1\n",
    "        print(i, end = ' ')\n",
    "        oddnum.append(i)\n",
    "        \n",
    "print('the last two odd number is :',oddnum[-2:])"
   ]
  },
  {
   "cell_type": "markdown",
   "id": "353d68f3",
   "metadata": {},
   "source": [
    "### Task 6: Appending Two Lists"
   ]
  },
  {
   "cell_type": "code",
   "execution_count": 1,
   "id": "fd3dd540",
   "metadata": {},
   "outputs": [
    {
     "name": "stdout",
     "output_type": "stream",
     "text": [
      "Enter number:  1\n",
      "Enter number:  1\n",
      "Enter number:  1\n",
      "Enter number:  1\n",
      "Enter number:  1\n",
      "['1', '1', '1', '1', '1']\n",
      "Enter number:  1\n",
      "Enter number:  1\n",
      "Enter number:  1\n",
      "['1', '1', '1']\n",
      "['1', '1', '1', '1', '1', '1', '1', '1']\n"
     ]
    }
   ],
   "source": [
    "x = []  # empty list\n",
    "y = []\n",
    "\n",
    "for i in range(5):\n",
    "    List1 = str(input('Enter number:  '))\n",
    "    x.append(List1)\n",
    "print(x)\n",
    "for i in range(3):\n",
    "    List2 = str(input('Enter number:  '))\n",
    "    y.append(List2)\n",
    "print(y)\n",
    "\n",
    "x.extend(y)\n",
    "print(x)"
   ]
  },
  {
   "cell_type": "markdown",
   "id": "273deb4e",
   "metadata": {},
   "source": [
    "### Task 7: Populating Elements in a List"
   ]
  },
  {
   "cell_type": "code",
   "execution_count": 5,
   "id": "4efc8f6b",
   "metadata": {},
   "outputs": [
    {
     "name": "stdout",
     "output_type": "stream",
     "text": [
      "[1, 4, 9, 16, 25, 36, 49, 64, 81]\n",
      "[900, 961, 1024, 1089, 1156, 1225, 1296, 1369, 1444, 1521]\n"
     ]
    }
   ],
   "source": [
    "# Create two lists as defined below and print them one after the other.\n",
    "# list_a = squares of all the numbers from 1 to 10\n",
    "# list_b=squares of all the numbers from 30 to 40\n",
    "\n",
    "squares1 = []\n",
    "squares2 = []\n",
    "for i in range(1, 10):\n",
    "    squares1.append(i ** 2)\n",
    "print(squares1)\n",
    "for i in range(30, 40):\n",
    "    squares2.append(i ** 2)\n",
    "print(squares2)\n"
   ]
  },
  {
   "cell_type": "code",
   "execution_count": null,
   "id": "f5759484",
   "metadata": {},
   "outputs": [],
   "source": []
  },
  {
   "cell_type": "code",
   "execution_count": null,
   "id": "06d5023d",
   "metadata": {},
   "outputs": [],
   "source": []
  }
 ],
 "metadata": {
  "kernelspec": {
   "display_name": "Python 3 (ipykernel)",
   "language": "python",
   "name": "python3"
  },
  "language_info": {
   "codemirror_mode": {
    "name": "ipython",
    "version": 3
   },
   "file_extension": ".py",
   "mimetype": "text/x-python",
   "name": "python",
   "nbconvert_exporter": "python",
   "pygments_lexer": "ipython3",
   "version": "3.11.5"
  }
 },
 "nbformat": 4,
 "nbformat_minor": 5
}

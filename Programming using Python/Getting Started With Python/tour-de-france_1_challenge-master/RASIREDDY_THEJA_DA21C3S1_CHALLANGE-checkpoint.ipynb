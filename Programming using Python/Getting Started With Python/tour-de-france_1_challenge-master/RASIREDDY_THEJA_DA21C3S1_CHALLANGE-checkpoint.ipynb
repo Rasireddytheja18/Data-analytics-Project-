{
 "cells": [
  {
   "cell_type": "code",
   "execution_count": 4,
   "id": "2bb4b2b0",
   "metadata": {},
   "outputs": [
    {
     "ename": "SyntaxError",
     "evalue": "invalid syntax (1630630835.py, line 3)",
     "output_type": "error",
     "traceback": [
      "\u001b[1;36m  Cell \u001b[1;32mIn[4], line 3\u001b[1;36m\u001b[0m\n\u001b[1;33m    print(time) import datetime\u001b[0m\n\u001b[1;37m                ^\u001b[0m\n\u001b[1;31mSyntaxError\u001b[0m\u001b[1;31m:\u001b[0m invalid syntax\n"
     ]
    }
   ],
   "source": [
    "\n"
   ]
  },
  {
   "cell_type": "code",
   "execution_count": 11,
   "id": "d8338295",
   "metadata": {},
   "outputs": [
    {
     "name": "stdout",
     "output_type": "stream",
     "text": [
      "559.625\n"
     ]
    }
   ],
   "source": [
    "#TASK 2\n",
    "euros = 500\n",
    "exchangerate = 1.1\n",
    "charges = 1.75 / 100\n",
    "dollars = euros * exchangerate\n",
    "totalcost = dollars + (dollars * charges)\n",
    "print(totalcost)"
   ]
  },
  {
   "cell_type": "code",
   "execution_count": 12,
   "id": "907dc328",
   "metadata": {},
   "outputs": [
    {
     "name": "stdout",
     "output_type": "stream",
     "text": [
      "7200.0\n"
     ]
    }
   ],
   "source": [
    "#TASK 3\n",
    "monthlyexpense = 4000\n",
    "percentage = 20\n",
    "tripduration = 45\n",
    "Expinfrance = (percentage / 100) * monthlyexpense\n",
    "monthlyexpensefrance = monthlyexpense + Expinfrance\n",
    "totalexpensefrance = (monthlyexpensefrance / 30) * tripduration\n",
    "print(totalexpensefrance)\n"
   ]
  },
  {
   "cell_type": "code",
   "execution_count": 13,
   "id": "f446032b",
   "metadata": {},
   "outputs": [
    {
     "name": "stdout",
     "output_type": "stream",
     "text": [
      "83.33333333333333\n"
     ]
    }
   ],
   "source": [
    "#TASK 4\n",
    "P = 20000 \n",
    "r = 0.05  \n",
    "t = 1/12  \n",
    "interest = P * r * t\n",
    "totalamount = P + interest\n",
    "profit = interest\n",
    "print(profit)\n"
   ]
  },
  {
   "cell_type": "code",
   "execution_count": 16,
   "id": "c9533fc0",
   "metadata": {},
   "outputs": [
    {
     "name": "stdout",
     "output_type": "stream",
     "text": [
      "7.224\n"
     ]
    }
   ],
   "source": [
    "#TASK 5\n",
    "kpdfrance = 12\n",
    "miles = 0.602\n",
    "milesperdayinfrance = kpdfrance * miles\n",
    "print(milesperdayinfrance)\n"
   ]
  },
  {
   "cell_type": "code",
   "execution_count": 18,
   "id": "07944c2e",
   "metadata": {},
   "outputs": [
    {
     "name": "stdout",
     "output_type": "stream",
     "text": [
      "1723.268906666667\n"
     ]
    }
   ],
   "source": [
    "# TASK 6\n",
    "\n",
    "km = 3328\n",
    "kminmiles = 0.621371\n",
    "onelapinmiles = 1.2\n",
    "\n",
    "total_distance_miles = km * kminmiles\n",
    "\n",
    "totallaps = total_distance_miles / onelapinmiles\n",
    "\n",
    "print(totallaps)\n"
   ]
  },
  {
   "cell_type": "code",
   "execution_count": 19,
   "id": "b73a4ab1",
   "metadata": {},
   "outputs": [
    {
     "name": "stdout",
     "output_type": "stream",
     "text": [
      "6\n"
     ]
    }
   ],
   "source": [
    "# TASK 8\n",
    "oz = 10\n",
    "days = 14\n",
    "ml_per_oz = 30\n",
    "bottle_ml = 750\n",
    "\n",
    "total_ml = oz * ml_per_oz * days\n",
    "\n",
    "num_bottles = total_ml // bottle_ml + 1\n",
    "\n",
    "# Print the result\n",
    "print(num_bottles)\n"
   ]
  },
  {
   "cell_type": "code",
   "execution_count": null,
   "id": "1e28a3e1",
   "metadata": {},
   "outputs": [],
   "source": []
  }
 ],
 "metadata": {
  "kernelspec": {
   "display_name": "Python 3 (ipykernel)",
   "language": "python",
   "name": "python3"
  },
  "language_info": {
   "codemirror_mode": {
    "name": "ipython",
    "version": 3
   },
   "file_extension": ".py",
   "mimetype": "text/x-python",
   "name": "python",
   "nbconvert_exporter": "python",
   "pygments_lexer": "ipython3",
   "version": "3.11.5"
  }
 },
 "nbformat": 4,
 "nbformat_minor": 5
}

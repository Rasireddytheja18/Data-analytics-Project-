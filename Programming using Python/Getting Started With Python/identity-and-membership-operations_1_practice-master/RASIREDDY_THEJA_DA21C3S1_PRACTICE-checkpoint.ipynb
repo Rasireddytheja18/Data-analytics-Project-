{
 "cells": [
  {
   "cell_type": "code",
   "execution_count": 7,
   "id": "eb3347c1",
   "metadata": {},
   "outputs": [
    {
     "name": "stdout",
     "output_type": "stream",
     "text": [
      "rollno  : 88\n",
      "id of rollno : 140711873125896\n",
      "datatype : <class 'int'>\n"
     ]
    }
   ],
   "source": [
    "#TASK 1 (A)\n",
    "rollno = 88\n",
    "print('rollno  :',rollno)\n",
    "print('id of rollno :',id(rollno))\n",
    "print('datatype :',type(rollno))\n"
   ]
  },
  {
   "cell_type": "code",
   "execution_count": 14,
   "id": "86a13d55",
   "metadata": {},
   "outputs": [
    {
     "name": "stdout",
     "output_type": "stream",
     "text": [
      "Name : ThejaR\n",
      "id of Name : 2387013679856\n",
      "datatype : <class 'str'>\n"
     ]
    }
   ],
   "source": [
    "#TASK 1 (B)\n",
    "FirstName = 'ThejaR'\n",
    "print('Name :',FirstName)\n",
    "print('id of Name :',id(FirstName))\n",
    "print('datatype :',type(FirstName))\n"
   ]
  },
  {
   "cell_type": "code",
   "execution_count": 15,
   "id": "70e4fbc3",
   "metadata": {},
   "outputs": [
    {
     "name": "stdout",
     "output_type": "stream",
     "text": [
      "Name : ThejaR\n",
      "id of Name : 2387013679856\n",
      "datatype : <class 'str'>\n"
     ]
    }
   ],
   "source": [
    "#TASK 1 (c)\n",
    "LastName = 'ThejaR'\n",
    "print('Name :',LastName)\n",
    "print('id of Name :',id(LastName))\n",
    "print('datatype :',type(LastName))"
   ]
  },
  {
   "cell_type": "code",
   "execution_count": 16,
   "id": "4916ed5d",
   "metadata": {},
   "outputs": [
    {
     "name": "stdout",
     "output_type": "stream",
     "text": [
      "value : 50\n",
      "id of maxmarks : 140711873124680\n",
      "datatype : <class 'int'>\n"
     ]
    }
   ],
   "source": [
    "#TASK 1 (D)\n",
    "Maxmarks = 50\n",
    "print('value :',Maxmarks)\n",
    "print('id of maxmarks :',id(Maxmarks))\n",
    "print('datatype :',type(Maxmarks))"
   ]
  },
  {
   "cell_type": "code",
   "execution_count": 17,
   "id": "94dbf63c",
   "metadata": {},
   "outputs": [
    {
     "name": "stdout",
     "output_type": "stream",
     "text": [
      "2\n"
     ]
    }
   ],
   "source": [
    "#TASK 2 (A)\n",
    "var1=2\n",
    "print(var1)"
   ]
  },
  {
   "cell_type": "code",
   "execution_count": 18,
   "id": "2cabd263",
   "metadata": {},
   "outputs": [
    {
     "ename": "SyntaxError",
     "evalue": "invalid decimal literal (3047678404.py, line 2)",
     "output_type": "error",
     "traceback": [
      "\u001b[1;36m  Cell \u001b[1;32mIn[18], line 2\u001b[1;36m\u001b[0m\n\u001b[1;33m    2var=2\u001b[0m\n\u001b[1;37m    ^\u001b[0m\n\u001b[1;31mSyntaxError\u001b[0m\u001b[1;31m:\u001b[0m invalid decimal literal\n"
     ]
    }
   ],
   "source": [
    "#TASK 2 (B)\n",
    "2var=2\n",
    "print(2var)"
   ]
  },
  {
   "cell_type": "code",
   "execution_count": 19,
   "id": "54158d68",
   "metadata": {},
   "outputs": [
    {
     "ename": "SyntaxError",
     "evalue": "invalid syntax (3361387280.py, line 2)",
     "output_type": "error",
     "traceback": [
      "\u001b[1;36m  Cell \u001b[1;32mIn[19], line 2\u001b[1;36m\u001b[0m\n\u001b[1;33m    var 1 = 2\u001b[0m\n\u001b[1;37m        ^\u001b[0m\n\u001b[1;31mSyntaxError\u001b[0m\u001b[1;31m:\u001b[0m invalid syntax\n"
     ]
    }
   ],
   "source": [
    "#TASK 2 (c)\n",
    "var 1 = 2\n",
    "print(var 1)"
   ]
  },
  {
   "cell_type": "code",
   "execution_count": 20,
   "id": "8e8d0281",
   "metadata": {},
   "outputs": [
    {
     "ename": "SyntaxError",
     "evalue": "invalid syntax (2057860753.py, line 2)",
     "output_type": "error",
     "traceback": [
      "\u001b[1;36m  Cell \u001b[1;32mIn[20], line 2\u001b[1;36m\u001b[0m\n\u001b[1;33m    var$2 = 2\u001b[0m\n\u001b[1;37m       ^\u001b[0m\n\u001b[1;31mSyntaxError\u001b[0m\u001b[1;31m:\u001b[0m invalid syntax\n"
     ]
    }
   ],
   "source": [
    "#TASK 2 (D)\n",
    "var$2 = 2\n",
    "print(var$2)"
   ]
  },
  {
   "cell_type": "code",
   "execution_count": 35,
   "id": "0af6eddb",
   "metadata": {},
   "outputs": [
    {
     "name": "stdout",
     "output_type": "stream",
     "text": [
      "100.0 %\n"
     ]
    }
   ],
   "source": [
    "#TASK 5(A)\n",
    "maxmarks = 100\n",
    "print((maxmarks/100)*100,'%')\n"
   ]
  },
  {
   "cell_type": "code",
   "execution_count": 26,
   "id": "71b98703",
   "metadata": {},
   "outputs": [
    {
     "name": "stdout",
     "output_type": "stream",
     "text": [
      "RasireddyTheja\n"
     ]
    }
   ],
   "source": [
    "#TASK 5(B)\n",
    "Firstname = 'Rasireddy'\n",
    "Lastname = 'Theja'\n",
    "print(Firstname+Lastname)"
   ]
  },
  {
   "cell_type": "code",
   "execution_count": 33,
   "id": "1b79861d",
   "metadata": {},
   "outputs": [
    {
     "name": "stdout",
     "output_type": "stream",
     "text": [
      "RasireddyTheja scored : 100.0 %\n"
     ]
    }
   ],
   "source": [
    "#TASK 5(c)\n",
    "Fullname = 'RasireddyTheja'\n",
    "maxmarks = 100\n",
    "print(Fullname,'scored :',(maxmarks/100)*100,'%')"
   ]
  },
  {
   "cell_type": "code",
   "execution_count": 36,
   "id": "05366e46",
   "metadata": {},
   "outputs": [
    {
     "ename": "TypeError",
     "evalue": "unsupported operand type(s) for +: 'int' and 'str'",
     "output_type": "error",
     "traceback": [
      "\u001b[1;31m---------------------------------------------------------------------------\u001b[0m",
      "\u001b[1;31mTypeError\u001b[0m                                 Traceback (most recent call last)",
      "Cell \u001b[1;32mIn[36], line 2\u001b[0m\n\u001b[0;32m      1\u001b[0m \u001b[38;5;66;03m# TASK 7\u001b[39;00m\n\u001b[1;32m----> 2\u001b[0m value \u001b[38;5;241m=\u001b[39m \u001b[38;5;241m1\u001b[39m\u001b[38;5;241m+\u001b[39m\u001b[38;5;124m\"\u001b[39m\u001b[38;5;124m2\u001b[39m\u001b[38;5;124m\"\u001b[39m\n\u001b[0;32m      3\u001b[0m \u001b[38;5;28mprint\u001b[39m(value)\n",
      "\u001b[1;31mTypeError\u001b[0m: unsupported operand type(s) for +: 'int' and 'str'"
     ]
    }
   ],
   "source": [
    "# TASK 7 (a)\n",
    "value = 1+\"2\"\n",
    "print(value)"
   ]
  },
  {
   "cell_type": "code",
   "execution_count": 37,
   "id": "771a4da2",
   "metadata": {},
   "outputs": [
    {
     "name": "stdout",
     "output_type": "stream",
     "text": [
      "12\n"
     ]
    }
   ],
   "source": [
    "# TASK 7 (b)\n",
    "value = \"1\"+\"2\"\n",
    "print(value)"
   ]
  },
  {
   "cell_type": "code",
   "execution_count": 38,
   "id": "524a0a93",
   "metadata": {},
   "outputs": [
    {
     "name": "stdout",
     "output_type": "stream",
     "text": [
      "0.5\n"
     ]
    }
   ],
   "source": [
    "# TASK 7 (c)\n",
    "value = 1/2\n",
    "print(value)"
   ]
  },
  {
   "cell_type": "code",
   "execution_count": 39,
   "id": "38d8ded7",
   "metadata": {},
   "outputs": [
    {
     "name": "stdout",
     "output_type": "stream",
     "text": [
      "0\n"
     ]
    }
   ],
   "source": [
    "# TASK 7 (c)\n",
    "value = 1//2\n",
    "print(value)"
   ]
  },
  {
   "cell_type": "code",
   "execution_count": 41,
   "id": "b3055b9b",
   "metadata": {
    "scrolled": true
   },
   "outputs": [
    {
     "name": "stdout",
     "output_type": "stream",
     "text": [
      "True\n"
     ]
    }
   ],
   "source": [
    "# TASK 9 (A)\n",
    "firstname = \"John\"\n",
    "fullname = \"John Doe\"\n",
    "Test = firstname in fullname\n",
    "print(Test)"
   ]
  },
  {
   "cell_type": "code",
   "execution_count": 42,
   "id": "671b2ee4",
   "metadata": {},
   "outputs": [
    {
     "name": "stdout",
     "output_type": "stream",
     "text": [
      "False\n"
     ]
    }
   ],
   "source": [
    "# TASK 9 (B)\n",
    "firstname = \"John\"\n",
    "fullname = \"John Doe\"\n",
    "Test = firstname is fullname\n",
    "print(Test)"
   ]
  },
  {
   "cell_type": "code",
   "execution_count": 45,
   "id": "c3da89b6",
   "metadata": {},
   "outputs": [
    {
     "name": "stdout",
     "output_type": "stream",
     "text": [
      "66\n",
      "1024\n"
     ]
    }
   ],
   "source": [
    "# TASK 10\n",
    "a = 4\n",
    "b = 3             ## d and e values are different.the expressions they are used in are different, leading to different results.\n",
    "c = 2\n",
    "d = a**b+c\n",
    "e = a**(b+c)\n",
    "print(d)\n",
    "print(e)"
   ]
  },
  {
   "cell_type": "code",
   "execution_count": null,
   "id": "acffd637",
   "metadata": {},
   "outputs": [],
   "source": []
  }
 ],
 "metadata": {
  "kernelspec": {
   "display_name": "Python 3 (ipykernel)",
   "language": "python",
   "name": "python3"
  },
  "language_info": {
   "codemirror_mode": {
    "name": "ipython",
    "version": 3
   },
   "file_extension": ".py",
   "mimetype": "text/x-python",
   "name": "python",
   "nbconvert_exporter": "python",
   "pygments_lexer": "ipython3",
   "version": "3.11.5"
  }
 },
 "nbformat": 4,
 "nbformat_minor": 5
}

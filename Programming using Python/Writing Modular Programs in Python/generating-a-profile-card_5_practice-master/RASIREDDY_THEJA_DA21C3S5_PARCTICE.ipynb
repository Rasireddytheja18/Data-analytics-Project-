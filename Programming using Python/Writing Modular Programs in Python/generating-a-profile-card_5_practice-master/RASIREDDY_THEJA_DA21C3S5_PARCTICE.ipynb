{
 "cells": [
  {
   "cell_type": "markdown",
   "id": "c872e4b5",
   "metadata": {},
   "source": [
    "### Task - 1"
   ]
  },
  {
   "cell_type": "code",
   "execution_count": 4,
   "id": "a427df7e",
   "metadata": {},
   "outputs": [
    {
     "name": "stdout",
     "output_type": "stream",
     "text": [
      "enter a name:abcdcba\n",
      "original name is : abcdcba\n",
      "reversedvalue is : abcdcba\n",
      "it is plaindrome\n"
     ]
    }
   ],
   "source": [
    "name = input('enter a name:')\n",
    "print(\"original name is :\",name)\n",
    "reversedvalue = name[::-1]\n",
    "print('reversedvalue is :',reversedvalue)\n",
    "\n",
    "if name == reversedvalue:\n",
    "    print('it is plaindrome')\n",
    "else:\n",
    "    print('it is not plaindrome')\n",
    "    "
   ]
  },
  {
   "cell_type": "markdown",
   "id": "1b82318a",
   "metadata": {},
   "source": [
    "### Task -2"
   ]
  },
  {
   "cell_type": "code",
   "execution_count": 6,
   "id": "0b55652b",
   "metadata": {},
   "outputs": [
    {
     "name": "stdout",
     "output_type": "stream",
     "text": [
      "enter a words:jaggu moon abc chd\n",
      "  ,   ,   , a , a , b , c , c , d , g , g , h , j , m , n , o , o , u , "
     ]
    }
   ],
   "source": [
    "''' Create a user-defined function to accept multiple words from the user and store them in a list. Sort the words in\n",
    "the list in alphabetical order and print them.'''\n",
    "\n",
    "def multiple_words():\n",
    "    name = input('enter a words:')\n",
    "    \n",
    "    sorted_word = sorted(name)\n",
    "    \n",
    "    for i in sorted_word:\n",
    "        print(i, end = \" , \")\n",
    "        \n",
    "multiple_words()        "
   ]
  },
  {
   "cell_type": "code",
   "execution_count": 19,
   "id": "037306e4",
   "metadata": {},
   "outputs": [
    {
     "name": "stdout",
     "output_type": "stream",
     "text": [
      "abbas,elima,jaggu,moon,"
     ]
    }
   ],
   "source": [
    "def multiple_words(word):\n",
    "    word = sorted(word)\n",
    "    for i in word:\n",
    "        print(i, end=\",\")\n",
    "words = ['jaggu','moon','abbas','elima']\n",
    "multiple_words(words)\n",
    "\n",
    "    "
   ]
  },
  {
   "cell_type": "markdown",
   "id": "21c9d984",
   "metadata": {},
   "source": [
    "### Task - 3"
   ]
  },
  {
   "cell_type": "code",
   "execution_count": 10,
   "id": "c27d2ef5",
   "metadata": {},
   "outputs": [
    {
     "name": "stdout",
     "output_type": "stream",
     "text": [
      "The converted string is: Jaggu\n"
     ]
    }
   ],
   "source": [
    "'''Create a user-defined function to accept user input as a list of characters. Convert the list of characters into a\n",
    "string and display the output. '''\n",
    "\n",
    "def convert_to_string(char_list):\n",
    "   \n",
    "    result_string = ''.join(char_list)\n",
    "    return result_string\n",
    "\n",
    "\n",
    "char_list = ['J', 'a', 'g', 'g', 'u']\n",
    "result = convert_to_string(char_list)\n",
    "print(f\"The converted string is: {result}\")\n",
    "\n",
    "    "
   ]
  },
  {
   "cell_type": "markdown",
   "id": "c185d191",
   "metadata": {},
   "source": [
    "### Task - 4"
   ]
  },
  {
   "cell_type": "code",
   "execution_count": 65,
   "id": "e6cb7102",
   "metadata": {},
   "outputs": [
    {
     "name": "stdout",
     "output_type": "stream",
     "text": [
      "enter a 5 number:45\n",
      "enter a 5 number:34\n",
      "enter a 5 number:45\n",
      "enter a 5 number:67\n",
      "enter a 5 number:35\n",
      "Max: 67\n",
      "Min: 34\n"
     ]
    }
   ],
   "source": [
    "def minmax():\n",
    "    emptlist = []\n",
    "    \n",
    "    for i in range(5):\n",
    "        num = int(input(\"enter a 5 number:\"))\n",
    "        emptlist.append(num)\n",
    "    print(\"Max:\",max(emptlist))\n",
    "    print(\"Min:\",min(emptlist))\n",
    "    \n",
    "minmax()    \n",
    "    "
   ]
  },
  {
   "cell_type": "markdown",
   "id": "efb1f23c",
   "metadata": {},
   "source": [
    "### Task - 5"
   ]
  },
  {
   "cell_type": "code",
   "execution_count": 70,
   "id": "161184b9",
   "metadata": {},
   "outputs": [
    {
     "name": "stdout",
     "output_type": "stream",
     "text": [
      "max 34\n",
      "min 1\n"
     ]
    }
   ],
   "source": [
    "def fundict():\n",
    "    dict1 = {'item1':1,'item2':23,'item3':34,'item4':3,'item5':7}\n",
    "    v = list(dict1.values())\n",
    "    n = list(dict1.keys())\n",
    "    print('max',max(v))\n",
    "    print('min',min(v))\n",
    "    \n",
    "fundict()    \n",
    "    "
   ]
  },
  {
   "cell_type": "markdown",
   "id": "70ad88e3",
   "metadata": {},
   "source": [
    "### Task - 6"
   ]
  },
  {
   "cell_type": "code",
   "execution_count": null,
   "id": "1c45075e",
   "metadata": {},
   "outputs": [],
   "source": [
    "''' Write a program to create a profile card of a person. Create a user-defined function fl() to accept input from\n",
    "the user to store the name, age, gender, and occupation as local variables. Create another user-defined function f2() \n",
    "to print the values entered by the user earlier and generate a profile card. Function f2() will be called from fl().'''"
   ]
  },
  {
   "cell_type": "code",
   "execution_count": 57,
   "id": "43cfa290",
   "metadata": {},
   "outputs": [
    {
     "ename": "TypeError",
     "evalue": "function_1() missing 4 required positional arguments: 'name', 'age', 'gender', and 'occupation'",
     "output_type": "error",
     "traceback": [
      "\u001b[1;31m---------------------------------------------------------------------------\u001b[0m",
      "\u001b[1;31mTypeError\u001b[0m                                 Traceback (most recent call last)",
      "Cell \u001b[1;32mIn[57], line 15\u001b[0m\n\u001b[0;32m     12\u001b[0m     \u001b[38;5;28mprint\u001b[39m(\u001b[38;5;124m\"\u001b[39m\u001b[38;5;124mgender :\u001b[39m\u001b[38;5;124m\"\u001b[39m,gender)\n\u001b[0;32m     13\u001b[0m     \u001b[38;5;28mprint\u001b[39m(\u001b[38;5;124m\"\u001b[39m\u001b[38;5;124moccupation :\u001b[39m\u001b[38;5;124m\"\u001b[39m,occupation)\n\u001b[1;32m---> 15\u001b[0m function_2()\n",
      "Cell \u001b[1;32mIn[57], line 9\u001b[0m, in \u001b[0;36mfunction_2\u001b[1;34m()\u001b[0m\n\u001b[0;32m      8\u001b[0m \u001b[38;5;28;01mdef\u001b[39;00m \u001b[38;5;21mfunction_2\u001b[39m():\n\u001b[1;32m----> 9\u001b[0m     function_1()\n\u001b[0;32m     10\u001b[0m     \u001b[38;5;28mprint\u001b[39m(\u001b[38;5;124m\"\u001b[39m\u001b[38;5;124mname :\u001b[39m\u001b[38;5;124m\"\u001b[39m,name)\n\u001b[0;32m     11\u001b[0m     \u001b[38;5;28mprint\u001b[39m(\u001b[38;5;124m\"\u001b[39m\u001b[38;5;124mage :\u001b[39m\u001b[38;5;124m\"\u001b[39m,age)\n",
      "\u001b[1;31mTypeError\u001b[0m: function_1() missing 4 required positional arguments: 'name', 'age', 'gender', and 'occupation'"
     ]
    }
   ],
   "source": [
    "def function_1(name, age, gender, occupation):\n",
    "    name = input(\"Enter your name: \")\n",
    "    age = int(input(\"Enter your age: \"))\n",
    "    gender = input(\"Enter your gender: \")\n",
    "    occupation = input(\"Enter your occupation: \")\n",
    "    return name, age, gender, occupation\n",
    "\n",
    "def function_2():\n",
    "    function_1()\n",
    "    print(\"name :\",name)\n",
    "    print(\"age :\",age)\n",
    "    print(\"gender :\",gender)\n",
    "    print(\"occupation :\",occupation)\n",
    "\n",
    "function_2()    "
   ]
  },
  {
   "cell_type": "code",
   "execution_count": 81,
   "id": "de4274c6",
   "metadata": {},
   "outputs": [
    {
     "name": "stdout",
     "output_type": "stream",
     "text": [
      "Enter employee name: jahhdf\n",
      "Enter employee age: 45\n",
      "Enter employee gender: dfsf\n",
      "Name: jahhdf\n",
      "Age: 45\n",
      "Gender: dfsf\n"
     ]
    }
   ],
   "source": [
    "def profile_card(employee):\n",
    "    print(f\"Name: {employee['name']}\")\n",
    "    print(f\"Age: {employee['age']}\")\n",
    "    print(f\"Gender: {employee['gender']}\")\n",
    "\n",
    "def func1():\n",
    "    name = input(\"Enter employee name: \")\n",
    "    age = input(\"Enter employee age: \")\n",
    "    gender = input(\"Enter employee gender: \")\n",
    "\n",
    "    dict2 = {\"name\": name,\"age\": age,\"gender\": gender}\n",
    "\n",
    "    profile_card(dict2)\n",
    "\n",
    "def func():\n",
    "    func1()\n",
    "\n",
    "# Call the func function to start the process\n",
    "func()\n"
   ]
  },
  {
   "cell_type": "markdown",
   "id": "b5bdde7d",
   "metadata": {},
   "source": [
    "### Task - 7"
   ]
  },
  {
   "cell_type": "code",
   "execution_count": 84,
   "id": "c273ca32",
   "metadata": {},
   "outputs": [
    {
     "name": "stdout",
     "output_type": "stream",
     "text": [
      "[(4, 'black'), (1, 'green'), (5, 'red'), (2, 'blue'), (3, 'yellow')]\n",
      "[('green', 1), ('blue', 2), ('yellow', 3), ('black', 4), ('red', 5)]\n"
     ]
    }
   ],
   "source": [
    "color = [('black', 4), ('green', 1), ('red', 5), ('blue', 2), ('yellow', 3)]\n",
    "\n",
    "List3 = []\n",
    "\n",
    "for i in color:\n",
    "    List3.append(tuple(reversed(i)))\n",
    "    \n",
    "print(List3)    \n",
    "\n",
    "List4 = []\n",
    "\n",
    "for i in sorted(List3):\n",
    "    List4.append(tuple(reversed(i)))\n",
    "    \n",
    "print(List4)    \n"
   ]
  },
  {
   "cell_type": "markdown",
   "id": "69a565fc",
   "metadata": {},
   "source": [
    "### Task - 8"
   ]
  },
  {
   "cell_type": "code",
   "execution_count": 86,
   "id": "90d7ef8a",
   "metadata": {},
   "outputs": [
    {
     "name": "stdout",
     "output_type": "stream",
     "text": [
      "['Mandy']\n"
     ]
    }
   ],
   "source": [
    "a = [\"Andy\", \"Mandy\", \"Sandy\"]\n",
    "b = [\"Handy\", \"Burgundy\", \"Mandy\"]\n",
    "\n",
    "result = list(filter(lambda x : x in a,b))\n",
    "\n",
    "print(result)"
   ]
  },
  {
   "cell_type": "markdown",
   "id": "53573fd9",
   "metadata": {},
   "source": [
    "### Task - 9"
   ]
  },
  {
   "cell_type": "code",
   "execution_count": 88,
   "id": "83a5e8fe",
   "metadata": {},
   "outputs": [
    {
     "name": "stdout",
     "output_type": "stream",
     "text": [
      "[29, 30, 31]\n"
     ]
    }
   ],
   "source": [
    "c = [12, 14, 14]\n",
    "d = [17, 16, 17]\n",
    "\n",
    "result = list(map(lambda a,b : a + b, c,d))\n",
    "print(result)"
   ]
  },
  {
   "cell_type": "markdown",
   "id": "847f991d",
   "metadata": {},
   "source": [
    "### TAsk - 10"
   ]
  },
  {
   "cell_type": "code",
   "execution_count": 97,
   "id": "1956b41b",
   "metadata": {},
   "outputs": [
    {
     "name": "stdout",
     "output_type": "stream",
     "text": [
      "dob = ['12', '25', '1991']\n",
      "doj = ['04', '25', '2020']\n",
      "d_year = 1991\n",
      "j_year = 2020\n",
      "age_claculate = 29\n",
      "True\n"
     ]
    }
   ],
   "source": [
    "dob = \"12-25-1991\"\n",
    "doj = \"04-25-2020\"\n",
    "\n",
    "b = dob.split(\"-\")\n",
    "print(\"dob =\",b)\n",
    "\n",
    "j = doj.split(\"-\")\n",
    "print(\"doj =\",j)\n",
    "\n",
    "d_year = int(b[-1])\n",
    "print(\"d_year =\",d_year)\n",
    "\n",
    "j_year = int(j[-1])\n",
    "print(\"j_year =\",j_year)\n",
    "\n",
    "age = j_year - d_year\n",
    "print(\"age_claculate =\",age)\n",
    "\n",
    "if age > 18:\n",
    "    print(True)\n",
    "else:\n",
    "    print(False)"
   ]
  },
  {
   "cell_type": "code",
   "execution_count": null,
   "id": "f271db05",
   "metadata": {},
   "outputs": [],
   "source": []
  }
 ],
 "metadata": {
  "kernelspec": {
   "display_name": "Python 3 (ipykernel)",
   "language": "python",
   "name": "python3"
  },
  "language_info": {
   "codemirror_mode": {
    "name": "ipython",
    "version": 3
   },
   "file_extension": ".py",
   "mimetype": "text/x-python",
   "name": "python",
   "nbconvert_exporter": "python",
   "pygments_lexer": "ipython3",
   "version": "3.11.5"
  }
 },
 "nbformat": 4,
 "nbformat_minor": 5
}

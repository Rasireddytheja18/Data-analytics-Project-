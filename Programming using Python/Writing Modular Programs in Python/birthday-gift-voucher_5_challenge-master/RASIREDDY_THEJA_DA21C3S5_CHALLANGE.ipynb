{
 "cells": [
  {
   "cell_type": "code",
   "execution_count": 3,
   "id": "d61799c1",
   "metadata": {},
   "outputs": [
    {
     "name": "stdout",
     "output_type": "stream",
     "text": [
      "Dear John Lee, \n",
      "wishing you a Happy Birthday! On behalf of your birthday\n",
      "and the upcoming Christmas season, we offer you a gift voucher valued $250.\n",
      "Birthday: $100, Christmas: $150\n",
      "\n",
      "Dear Tim Brooks, \n",
      "wishing you a Happy Birthday! On behalf of your birthday\n",
      "and the upcoming Veterans Day, we offer you a gift voucher valued $200.\n",
      "Birthday: $100, Veterans Day: $100\n",
      "\n",
      "Dear Alice Cook, \n",
      "wishing you a Happy Birthday! On behalf of your birthday\n",
      "and the upcoming Independence Day, we offer you a gift voucher valued $150.\n",
      "Birthday: $100, Independence Day: $50\n",
      "\n",
      "Dear Joshua John, \n",
      "wishing you a Happy Birthday! On behalf of your birthday\n",
      "we offer you a gift voucher valued $100\n",
      "\n",
      "Dear Alisa Matt, \n",
      "wishing you a Happy Birthday! On behalf of your birthday\n",
      "we offer you a gift voucher valued $100\n",
      "\n"
     ]
    }
   ],
   "source": [
    "emp_details = {\n",
    "    \"John Lee,\": \"12-12-1976\",\n",
    "    \"Tim Brooks,\": \"11-04-1980\",\n",
    "    \"Alice Cook,\": \"07-1-1978\",\n",
    "    \"Joshua John,\": \"05-02-1991\",\n",
    "    \"Alisa Matt,\": \"03-04-1990\"\n",
    "}\n",
    "\n",
    "def greeting(name, dob):\n",
    "    # Split the dob using the hyphen as the separator\n",
    "    month, day, year = dob.split('-')\n",
    "    \n",
    "    print(\"Dear\", name, \"\\nwishing you a Happy Birthday! On behalf of your birthday\")\n",
    "    \n",
    "    if month == '12':\n",
    "        print(\"and the upcoming Christmas season, we offer you a gift voucher valued $250.\")\n",
    "        print(\"Birthday: $100, Christmas: $150\\n\")\n",
    "    elif month == '11':\n",
    "        print(\"and the upcoming Veterans Day, we offer you a gift voucher valued $200.\")\n",
    "        print(\"Birthday: $100, Veterans Day: $100\\n\")\n",
    "    elif month == '07':\n",
    "        print(\"and the upcoming Independence Day, we offer you a gift voucher valued $150.\")\n",
    "        print(\"Birthday: $100, Independence Day: $50\\n\")\n",
    "    else:\n",
    "        print(\"we offer you a gift voucher valued $100\\n\")\n",
    "\n",
    "# Loop that iterates over the items in the emp_details dictionary and calls the greeting function\n",
    "for name, dob in emp_details.items():\n",
    "    greeting(name, dob)\n"
   ]
  },
  {
   "cell_type": "code",
   "execution_count": null,
   "id": "60a467d4",
   "metadata": {},
   "outputs": [],
   "source": []
  }
 ],
 "metadata": {
  "kernelspec": {
   "display_name": "Python 3 (ipykernel)",
   "language": "python",
   "name": "python3"
  },
  "language_info": {
   "codemirror_mode": {
    "name": "ipython",
    "version": 3
   },
   "file_extension": ".py",
   "mimetype": "text/x-python",
   "name": "python",
   "nbconvert_exporter": "python",
   "pygments_lexer": "ipython3",
   "version": "3.11.5"
  }
 },
 "nbformat": 4,
 "nbformat_minor": 5
}

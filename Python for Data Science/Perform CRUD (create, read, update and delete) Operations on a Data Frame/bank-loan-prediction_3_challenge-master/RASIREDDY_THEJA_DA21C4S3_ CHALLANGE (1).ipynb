{
 "cells": [
  {
   "cell_type": "code",
   "execution_count": 1,
   "id": "e0f7d372",
   "metadata": {},
   "outputs": [],
   "source": [
    "import pandas as pd\n",
    "data = pd.read_csv('DS1_C4_S3_Loan_Data_Challenge.csv')"
   ]
  },
  {
   "cell_type": "code",
   "execution_count": 2,
   "id": "9cbaa80b",
   "metadata": {},
   "outputs": [
    {
     "data": {
      "text/html": [
       "<div>\n",
       "<style scoped>\n",
       "    .dataframe tbody tr th:only-of-type {\n",
       "        vertical-align: middle;\n",
       "    }\n",
       "\n",
       "    .dataframe tbody tr th {\n",
       "        vertical-align: top;\n",
       "    }\n",
       "\n",
       "    .dataframe thead th {\n",
       "        text-align: right;\n",
       "    }\n",
       "</style>\n",
       "<table border=\"1\" class=\"dataframe\">\n",
       "  <thead>\n",
       "    <tr style=\"text-align: right;\">\n",
       "      <th></th>\n",
       "      <th>Loan_ID</th>\n",
       "      <th>Gender</th>\n",
       "      <th>Married</th>\n",
       "      <th>Dependents</th>\n",
       "      <th>Education</th>\n",
       "      <th>Self_Employed</th>\n",
       "      <th>ApplicantIncome</th>\n",
       "      <th>CoapplicantIncome</th>\n",
       "      <th>LoanAmount</th>\n",
       "      <th>Loan_Amount_Term</th>\n",
       "      <th>Credit_History</th>\n",
       "      <th>Property_Area</th>\n",
       "      <th>Loan_Status</th>\n",
       "    </tr>\n",
       "  </thead>\n",
       "  <tbody>\n",
       "    <tr>\n",
       "      <th>0</th>\n",
       "      <td>LP001002</td>\n",
       "      <td>Male</td>\n",
       "      <td>No</td>\n",
       "      <td>0</td>\n",
       "      <td>Graduate</td>\n",
       "      <td>No</td>\n",
       "      <td>5849</td>\n",
       "      <td>0.0</td>\n",
       "      <td>146</td>\n",
       "      <td>360</td>\n",
       "      <td>1</td>\n",
       "      <td>Urban</td>\n",
       "      <td>Y</td>\n",
       "    </tr>\n",
       "    <tr>\n",
       "      <th>1</th>\n",
       "      <td>LP001003</td>\n",
       "      <td>Male</td>\n",
       "      <td>Yes</td>\n",
       "      <td>1</td>\n",
       "      <td>Graduate</td>\n",
       "      <td>No</td>\n",
       "      <td>4583</td>\n",
       "      <td>1508.0</td>\n",
       "      <td>128</td>\n",
       "      <td>360</td>\n",
       "      <td>1</td>\n",
       "      <td>Rural</td>\n",
       "      <td>N</td>\n",
       "    </tr>\n",
       "    <tr>\n",
       "      <th>2</th>\n",
       "      <td>LP001005</td>\n",
       "      <td>Male</td>\n",
       "      <td>Yes</td>\n",
       "      <td>0</td>\n",
       "      <td>Graduate</td>\n",
       "      <td>Yes</td>\n",
       "      <td>3000</td>\n",
       "      <td>0.0</td>\n",
       "      <td>66</td>\n",
       "      <td>360</td>\n",
       "      <td>1</td>\n",
       "      <td>Urban</td>\n",
       "      <td>Y</td>\n",
       "    </tr>\n",
       "    <tr>\n",
       "      <th>3</th>\n",
       "      <td>LP001006</td>\n",
       "      <td>Male</td>\n",
       "      <td>Yes</td>\n",
       "      <td>0</td>\n",
       "      <td>Not Graduate</td>\n",
       "      <td>No</td>\n",
       "      <td>2583</td>\n",
       "      <td>2358.0</td>\n",
       "      <td>120</td>\n",
       "      <td>360</td>\n",
       "      <td>1</td>\n",
       "      <td>Urban</td>\n",
       "      <td>Y</td>\n",
       "    </tr>\n",
       "    <tr>\n",
       "      <th>4</th>\n",
       "      <td>LP001008</td>\n",
       "      <td>Male</td>\n",
       "      <td>No</td>\n",
       "      <td>0</td>\n",
       "      <td>Graduate</td>\n",
       "      <td>No</td>\n",
       "      <td>6000</td>\n",
       "      <td>0.0</td>\n",
       "      <td>141</td>\n",
       "      <td>360</td>\n",
       "      <td>1</td>\n",
       "      <td>Urban</td>\n",
       "      <td>Y</td>\n",
       "    </tr>\n",
       "    <tr>\n",
       "      <th>...</th>\n",
       "      <td>...</td>\n",
       "      <td>...</td>\n",
       "      <td>...</td>\n",
       "      <td>...</td>\n",
       "      <td>...</td>\n",
       "      <td>...</td>\n",
       "      <td>...</td>\n",
       "      <td>...</td>\n",
       "      <td>...</td>\n",
       "      <td>...</td>\n",
       "      <td>...</td>\n",
       "      <td>...</td>\n",
       "      <td>...</td>\n",
       "    </tr>\n",
       "    <tr>\n",
       "      <th>609</th>\n",
       "      <td>LP002978</td>\n",
       "      <td>Female</td>\n",
       "      <td>No</td>\n",
       "      <td>0</td>\n",
       "      <td>Graduate</td>\n",
       "      <td>No</td>\n",
       "      <td>2900</td>\n",
       "      <td>0.0</td>\n",
       "      <td>71</td>\n",
       "      <td>360</td>\n",
       "      <td>1</td>\n",
       "      <td>Rural</td>\n",
       "      <td>Y</td>\n",
       "    </tr>\n",
       "    <tr>\n",
       "      <th>610</th>\n",
       "      <td>LP002979</td>\n",
       "      <td>Male</td>\n",
       "      <td>Yes</td>\n",
       "      <td>3+</td>\n",
       "      <td>Graduate</td>\n",
       "      <td>No</td>\n",
       "      <td>4106</td>\n",
       "      <td>0.0</td>\n",
       "      <td>40</td>\n",
       "      <td>180</td>\n",
       "      <td>1</td>\n",
       "      <td>Rural</td>\n",
       "      <td>Y</td>\n",
       "    </tr>\n",
       "    <tr>\n",
       "      <th>611</th>\n",
       "      <td>LP002983</td>\n",
       "      <td>Male</td>\n",
       "      <td>Yes</td>\n",
       "      <td>1</td>\n",
       "      <td>Graduate</td>\n",
       "      <td>No</td>\n",
       "      <td>8072</td>\n",
       "      <td>240.0</td>\n",
       "      <td>253</td>\n",
       "      <td>360</td>\n",
       "      <td>1</td>\n",
       "      <td>Urban</td>\n",
       "      <td>Y</td>\n",
       "    </tr>\n",
       "    <tr>\n",
       "      <th>612</th>\n",
       "      <td>LP002984</td>\n",
       "      <td>Male</td>\n",
       "      <td>Yes</td>\n",
       "      <td>2</td>\n",
       "      <td>Graduate</td>\n",
       "      <td>No</td>\n",
       "      <td>7583</td>\n",
       "      <td>0.0</td>\n",
       "      <td>187</td>\n",
       "      <td>360</td>\n",
       "      <td>1</td>\n",
       "      <td>Urban</td>\n",
       "      <td>Y</td>\n",
       "    </tr>\n",
       "    <tr>\n",
       "      <th>613</th>\n",
       "      <td>LP002990</td>\n",
       "      <td>Female</td>\n",
       "      <td>No</td>\n",
       "      <td>0</td>\n",
       "      <td>Graduate</td>\n",
       "      <td>Yes</td>\n",
       "      <td>4583</td>\n",
       "      <td>0.0</td>\n",
       "      <td>133</td>\n",
       "      <td>360</td>\n",
       "      <td>0</td>\n",
       "      <td>Semiurban</td>\n",
       "      <td>N</td>\n",
       "    </tr>\n",
       "  </tbody>\n",
       "</table>\n",
       "<p>614 rows × 13 columns</p>\n",
       "</div>"
      ],
      "text/plain": [
       "      Loan_ID  Gender Married Dependents     Education Self_Employed  \\\n",
       "0    LP001002    Male      No          0      Graduate            No   \n",
       "1    LP001003    Male     Yes          1      Graduate            No   \n",
       "2    LP001005    Male     Yes          0      Graduate           Yes   \n",
       "3    LP001006    Male     Yes          0  Not Graduate            No   \n",
       "4    LP001008    Male      No          0      Graduate            No   \n",
       "..        ...     ...     ...        ...           ...           ...   \n",
       "609  LP002978  Female      No          0      Graduate            No   \n",
       "610  LP002979    Male     Yes         3+      Graduate            No   \n",
       "611  LP002983    Male     Yes          1      Graduate            No   \n",
       "612  LP002984    Male     Yes          2      Graduate            No   \n",
       "613  LP002990  Female      No          0      Graduate           Yes   \n",
       "\n",
       "     ApplicantIncome  CoapplicantIncome  LoanAmount  Loan_Amount_Term  \\\n",
       "0               5849                0.0         146               360   \n",
       "1               4583             1508.0         128               360   \n",
       "2               3000                0.0          66               360   \n",
       "3               2583             2358.0         120               360   \n",
       "4               6000                0.0         141               360   \n",
       "..               ...                ...         ...               ...   \n",
       "609             2900                0.0          71               360   \n",
       "610             4106                0.0          40               180   \n",
       "611             8072              240.0         253               360   \n",
       "612             7583                0.0         187               360   \n",
       "613             4583                0.0         133               360   \n",
       "\n",
       "     Credit_History Property_Area Loan_Status  \n",
       "0                 1         Urban           Y  \n",
       "1                 1         Rural           N  \n",
       "2                 1         Urban           Y  \n",
       "3                 1         Urban           Y  \n",
       "4                 1         Urban           Y  \n",
       "..              ...           ...         ...  \n",
       "609               1         Rural           Y  \n",
       "610               1         Rural           Y  \n",
       "611               1         Urban           Y  \n",
       "612               1         Urban           Y  \n",
       "613               0     Semiurban           N  \n",
       "\n",
       "[614 rows x 13 columns]"
      ]
     },
     "execution_count": 2,
     "metadata": {},
     "output_type": "execute_result"
    }
   ],
   "source": [
    "data"
   ]
  },
  {
   "cell_type": "code",
   "execution_count": 3,
   "id": "c4fd3d16",
   "metadata": {},
   "outputs": [],
   "source": [
    "# task 1"
   ]
  },
  {
   "cell_type": "code",
   "execution_count": 4,
   "id": "a550deaa",
   "metadata": {},
   "outputs": [
    {
     "name": "stdout",
     "output_type": "stream",
     "text": [
      "Number of rows: 614\n",
      "Number of columns: 13\n",
      "Null values:\n",
      "Loan_ID              0\n",
      "Gender               0\n",
      "Married              0\n",
      "Dependents           0\n",
      "Education            0\n",
      "Self_Employed        0\n",
      "ApplicantIncome      0\n",
      "CoapplicantIncome    0\n",
      "LoanAmount           0\n",
      "Loan_Amount_Term     0\n",
      "Credit_History       0\n",
      "Property_Area        0\n",
      "Loan_Status          0\n",
      "dtype: int64\n"
     ]
    }
   ],
   "source": [
    "num_rows, num_columns = data.shape\n",
    "\n",
    "null_values = data.isnull().sum()\n",
    "\n",
    "print(f'Number of rows: {num_rows}')\n",
    "print(f'Number of columns: {num_columns}')\n",
    "print('Null values:')\n",
    "print(null_values)"
   ]
  },
  {
   "cell_type": "code",
   "execution_count": 5,
   "id": "c64998a2",
   "metadata": {},
   "outputs": [],
   "source": [
    "# task 2"
   ]
  },
  {
   "cell_type": "code",
   "execution_count": 7,
   "id": "a08ac596",
   "metadata": {},
   "outputs": [
    {
     "name": "stdout",
     "output_type": "stream",
     "text": [
      "      Loan_ID  Gender Married Dependents     Education Self_Employed  \\\n",
      "54   LP001186  Female     Yes          1      Graduate           Yes   \n",
      "113  LP001392  Female      No          1      Graduate           Yes   \n",
      "353  LP002142  Female     Yes          0      Graduate           Yes   \n",
      "370  LP002194  Female      No          0      Graduate           Yes   \n",
      "404  LP002301  Female      No          0      Graduate           Yes   \n",
      "430  LP002377  Female      No          1      Graduate           Yes   \n",
      "439  LP002407  Female     Yes          0  Not Graduate           Yes   \n",
      "463  LP002489  Female      No          1  Not Graduate           Yes   \n",
      "493  LP002582  Female      No          0  Not Graduate           Yes   \n",
      "534  LP002731  Female      No          0  Not Graduate           Yes   \n",
      "561  LP002813  Female     Yes          1      Graduate           Yes   \n",
      "613  LP002990  Female      No          0      Graduate           Yes   \n",
      "\n",
      "     ApplicantIncome  CoapplicantIncome  LoanAmount  Loan_Amount_Term  \\\n",
      "54             11500                0.0         286               360   \n",
      "113             7451                0.0         146               360   \n",
      "353             5500                0.0         105               360   \n",
      "370            15759                0.0          55               360   \n",
      "404             7441                0.0         194               360   \n",
      "430             8624                0.0         150               360   \n",
      "439             7142                0.0         138               360   \n",
      "463             5191                0.0         132               360   \n",
      "493            17263                0.0         225               360   \n",
      "534            18165                0.0         125               360   \n",
      "561            19484                0.0         600               360   \n",
      "613             4583                0.0         133               360   \n",
      "\n",
      "     Credit_History Property_Area Loan_Status  \n",
      "54                0         Urban           N  \n",
      "113               1     Semiurban           Y  \n",
      "353               0         Rural           N  \n",
      "370               1     Semiurban           Y  \n",
      "404               1         Rural           N  \n",
      "430               1     Semiurban           Y  \n",
      "439               1         Rural           Y  \n",
      "463               1     Semiurban           Y  \n",
      "493               1     Semiurban           Y  \n",
      "534               1         Urban           Y  \n",
      "561               1     Semiurban           Y  \n",
      "613               0     Semiurban           N  \n"
     ]
    }
   ],
   "source": [
    "filtered_data = data[(data['Gender'] == 'Female') & \n",
    "                     (data['Self_Employed'] == 'Yes') & \n",
    "                     (data['ApplicantIncome'] > 4000)]\n",
    "\n",
    "print(filtered_data)\n"
   ]
  },
  {
   "cell_type": "code",
   "execution_count": 8,
   "id": "02ec0ed7",
   "metadata": {},
   "outputs": [],
   "source": [
    "# task 3"
   ]
  },
  {
   "cell_type": "code",
   "execution_count": 11,
   "id": "97ac4847",
   "metadata": {},
   "outputs": [
    {
     "name": "stdout",
     "output_type": "stream",
     "text": [
      "      Loan_ID Gender Married Dependents Education Self_Employed  \\\n",
      "0    LP001002   Male      No          0  Graduate            No   \n",
      "2    LP001005   Male     Yes          0  Graduate           Yes   \n",
      "4    LP001008   Male      No          0  Graduate            No   \n",
      "5    LP001011   Male     Yes          2  Graduate           Yes   \n",
      "8    LP001018   Male     Yes          2  Graduate            No   \n",
      "..        ...    ...     ...        ...       ...           ...   \n",
      "606  LP002961   Male     Yes          1  Graduate            No   \n",
      "608  LP002974   Male     Yes          0  Graduate            No   \n",
      "610  LP002979   Male     Yes         3+  Graduate            No   \n",
      "611  LP002983   Male     Yes          1  Graduate            No   \n",
      "612  LP002984   Male     Yes          2  Graduate            No   \n",
      "\n",
      "     ApplicantIncome  CoapplicantIncome  LoanAmount  Loan_Amount_Term  \\\n",
      "0               5849                0.0         146               360   \n",
      "2               3000                0.0          66               360   \n",
      "4               6000                0.0         141               360   \n",
      "5               5417             4196.0         267               360   \n",
      "8               4006             1526.0         168               360   \n",
      "..               ...                ...         ...               ...   \n",
      "606             3400             2500.0         173               360   \n",
      "608             3232             1950.0         108               360   \n",
      "610             4106                0.0          40               180   \n",
      "611             8072              240.0         253               360   \n",
      "612             7583                0.0         187               360   \n",
      "\n",
      "     Credit_History Property_Area Loan_Status  \n",
      "0                 1         Urban           Y  \n",
      "2                 1         Urban           Y  \n",
      "4                 1         Urban           Y  \n",
      "5                 1         Urban           Y  \n",
      "8                 1         Urban           Y  \n",
      "..              ...           ...         ...  \n",
      "606               1     Semiurban           Y  \n",
      "608               1         Rural           Y  \n",
      "610               1         Rural           Y  \n",
      "611               1         Urban           Y  \n",
      "612               1         Urban           Y  \n",
      "\n",
      "[279 rows x 13 columns]\n",
      "279\n"
     ]
    }
   ],
   "source": [
    "\n",
    "filtered_data = data[(data['Gender'] == 'Male') & \n",
    "                     (data['Education'] == 'Graduate') & \n",
    "                     (data['Loan_Status'] == 'Y')]\n",
    "\n",
    "print(filtered_data)\n",
    "num_customers = len(filtered_data)\n",
    "print(num_customers)\n"
   ]
  },
  {
   "cell_type": "code",
   "execution_count": 12,
   "id": "e414ef40",
   "metadata": {},
   "outputs": [],
   "source": [
    "# task 4"
   ]
  },
  {
   "cell_type": "code",
   "execution_count": 16,
   "id": "9b9afceb",
   "metadata": {},
   "outputs": [
    {
     "name": "stdout",
     "output_type": "stream",
     "text": [
      "      Loan_ID  Gender Married Dependents     Education Self_Employed  \\\n",
      "126  LP001448    Male     Yes         3+      Graduate            No   \n",
      "213  LP001715    Male     Yes         3+  Not Graduate           Yes   \n",
      "255  LP001846  Female      No         3+      Graduate            No   \n",
      "324  LP002065    Male     Yes         3+      Graduate            No   \n",
      "352  LP002141    Male     Yes         3+      Graduate            No   \n",
      "376  LP002219    Male     Yes         3+      Graduate            No   \n",
      "390  LP002255    Male      No         3+      Graduate            No   \n",
      "391  LP002262    Male     Yes         3+      Graduate            No   \n",
      "481  LP002536    Male     Yes         3+  Not Graduate            No   \n",
      "515  LP002659    Male     Yes         3+      Graduate            No   \n",
      "522  LP002692    Male     Yes         3+      Graduate           Yes   \n",
      "539  LP002740    Male     Yes         3+      Graduate            No   \n",
      "610  LP002979    Male     Yes         3+      Graduate            No   \n",
      "\n",
      "     ApplicantIncome  CoapplicantIncome  LoanAmount  Loan_Amount_Term  \\\n",
      "126            23803                0.0         370               360   \n",
      "213             5703                0.0         130               360   \n",
      "255             3083                0.0         255               360   \n",
      "324            15000                0.0         300               360   \n",
      "352             2666             2083.0          95               360   \n",
      "376             8750             4996.0         130               360   \n",
      "390             9167                0.0         185               360   \n",
      "391             9504                0.0         275               360   \n",
      "481             3095                0.0         113               360   \n",
      "515             3466             3428.0         150               360   \n",
      "522             5677             1424.0         100               360   \n",
      "539             6417                0.0         157               180   \n",
      "610             4106                0.0          40               180   \n",
      "\n",
      "     Credit_History Property_Area Loan_Status  \n",
      "126               1         Rural           Y  \n",
      "213               1         Rural           Y  \n",
      "255               1         Rural           Y  \n",
      "324               1         Rural           Y  \n",
      "352               1         Rural           Y  \n",
      "376               1         Rural           Y  \n",
      "390               1         Rural           Y  \n",
      "391               1         Rural           Y  \n",
      "481               1         Rural           Y  \n",
      "515               1         Rural           Y  \n",
      "522               1         Rural           Y  \n",
      "539               1         Rural           Y  \n",
      "610               1         Rural           Y  \n",
      "13\n"
     ]
    }
   ],
   "source": [
    "\n",
    "filtered_data = data[(data['Loan_Status'] == 'Y') & \n",
    "                     (data['Dependents'] == '3+') & \n",
    "                     (data['Property_Area'] == 'Rural')]\n",
    "\n",
    "print(filtered_data)\n",
    "\n",
    "num_customers = len(filtered_data)\n",
    "print(num_customers)\n"
   ]
  },
  {
   "cell_type": "code",
   "execution_count": 17,
   "id": "fe02d4d0",
   "metadata": {},
   "outputs": [],
   "source": [
    "# task 5"
   ]
  },
  {
   "cell_type": "code",
   "execution_count": 19,
   "id": "a4d4fd47",
   "metadata": {},
   "outputs": [
    {
     "name": "stdout",
     "output_type": "stream",
     "text": [
      "Warner Kim's loan status: nan\n"
     ]
    }
   ],
   "source": [
    "warner_kim = pd.DataFrame({'Gender': 'Male',\n",
    "                           'Married': 'Yes',\n",
    "                           'Dependents': '0',\n",
    "                           'Education': 'Graduate',\n",
    "                           'Self_Employed': 'No',\n",
    "                           'ApplicantIncome': 290000,\n",
    "                           'CoapplicantIncome': 0,\n",
    "                           'LoanAmount': 290,\n",
    "                           'Loan_Amount_Term': 360,\n",
    "                           'Credit_History': 1,\n",
    "                           'Property_Area': 'Urban'},\n",
    "                          index=['Warner Kim'])\n",
    "data_with_warner_kim = pd.concat([data, warner_kim])\n",
    "warner_kim_loan_status = data_with_warner_kim.loc['Warner Kim']['Loan_Status']\n",
    "print(f\"Warner Kim's loan status: {warner_kim_loan_status}\")\n"
   ]
  },
  {
   "cell_type": "code",
   "execution_count": 20,
   "id": "4f8847d9",
   "metadata": {},
   "outputs": [],
   "source": [
    "# task 6"
   ]
  },
  {
   "cell_type": "code",
   "execution_count": 22,
   "id": "55159871",
   "metadata": {},
   "outputs": [
    {
     "name": "stdout",
     "output_type": "stream",
     "text": [
      "Gender\n",
      "Male      12\n",
      "Female     7\n",
      "Name: count, dtype: int64\n"
     ]
    }
   ],
   "source": [
    "filtered_data = data[(data['Married'] == 'No') & \n",
    "                     (data['Self_Employed'] == 'Yes') & \n",
    "                     (data['Property_Area'] != 'Urban') & \n",
    "                     (data['Loan_Status'] == 'Y')]\n",
    "gender_count = filtered_data['Gender'].value_counts()\n",
    "print(gender_count)\n"
   ]
  },
  {
   "cell_type": "code",
   "execution_count": 23,
   "id": "2860a79d",
   "metadata": {},
   "outputs": [],
   "source": [
    "# task 7"
   ]
  },
  {
   "cell_type": "code",
   "execution_count": 25,
   "id": "16253d13",
   "metadata": {},
   "outputs": [
    {
     "name": "stdout",
     "output_type": "stream",
     "text": [
      "Property_Area\n",
      "Rural        5554.083799\n",
      "Semiurban    5292.261803\n",
      "Urban        5398.247525\n",
      "Name: ApplicantIncome, dtype: float64\n"
     ]
    }
   ],
   "source": [
    "\n",
    "average_income_by_area = data.groupby('Property_Area')['ApplicantIncome'].mean()\n",
    "\n",
    "print(average_income_by_area)\n"
   ]
  },
  {
   "cell_type": "code",
   "execution_count": 26,
   "id": "65df004c",
   "metadata": {},
   "outputs": [],
   "source": [
    "# task 8"
   ]
  },
  {
   "cell_type": "code",
   "execution_count": 30,
   "id": "fcf336f6",
   "metadata": {},
   "outputs": [
    {
     "name": "stdout",
     "output_type": "stream",
     "text": [
      "count_before_update\n",
      "0\n",
      "count_after_update\n",
      "0\n"
     ]
    }
   ],
   "source": [
    "\n",
    "filtered_customers = data[(data['Property_Area'].isin(['Rural', 'Semiurban'])) & \n",
    "                          (data['ApplicantIncome'] > 4000) & \n",
    "                          (data['CoapplicantIncome'] > 1000) & \n",
    "                          (data['Loan_Status'] == 'N')]\n",
    "\n",
    "count_before_update = len(filtered_customers)\n",
    "\n",
    "data.loc[filtered_customers.index, 'Loan_Status'] = 'Y'\n",
    "\n",
    "filtered_customers_after_update = data[(data['Property_Area'].isin(['Rural', 'Semiurban'])) & \n",
    "                                       (data['ApplicantIncome'] > 4000) & \n",
    "                                       (data['CoapplicantIncome'] > 1000) & \n",
    "                                       (data['Loan_Status'] == 'N')]\n",
    "\n",
    "count_after_update = len(filtered_customers_after_update)\n",
    "\n",
    "print(\"count_before_update\")\n",
    "print(count_before_update)\n",
    "print(\"count_after_update\")\n",
    "print(count_after_update)\n"
   ]
  },
  {
   "cell_type": "code",
   "execution_count": 31,
   "id": "f7d9216a",
   "metadata": {},
   "outputs": [],
   "source": [
    "# task 9"
   ]
  },
  {
   "cell_type": "code",
   "execution_count": 34,
   "id": "e0231fdc",
   "metadata": {},
   "outputs": [
    {
     "name": "stdout",
     "output_type": "stream",
     "text": [
      "Average Income: $11045.625\n",
      "Number of customers: 8\n"
     ]
    }
   ],
   "source": [
    "\n",
    "filtered_customers = data[(data['Dependents'] == '3+') & \n",
    "                          (data['Property_Area'] == 'Urban') & \n",
    "                          (data['Loan_Status'] == 'Y')]\n",
    "\n",
    "average_income = filtered_customers['ApplicantIncome'].mean()\n",
    "\n",
    "count = len(filtered_customers)\n",
    "\n",
    "print(\"Average Income: $\" + str(average_income))\n",
    "print(\"Number of customers: \" + str(count))\n"
   ]
  },
  {
   "cell_type": "code",
   "execution_count": 35,
   "id": "17ba32b5",
   "metadata": {},
   "outputs": [],
   "source": [
    "# task 10"
   ]
  },
  {
   "cell_type": "code",
   "execution_count": 37,
   "id": "302424b4",
   "metadata": {},
   "outputs": [
    {
     "name": "stdout",
     "output_type": "stream",
     "text": [
      "List of customers who meet the conditions:\n",
      "      Loan_ID Property_Area Dependents  ApplicantIncome\n",
      "34   LP001100         Rural         3+            12500\n",
      "126  LP001448         Rural         3+            23803\n",
      "155  LP001536     Semiurban         3+            39999\n",
      "177  LP001610     Semiurban         3+             5516\n",
      "213  LP001715         Rural         3+             5703\n",
      "324  LP002065         Rural         3+            15000\n",
      "376  LP002219         Rural         3+             8750\n",
      "390  LP002255         Rural         3+             9167\n",
      "391  LP002262         Rural         3+             9504\n",
      "409  LP002317         Rural         3+            81000\n",
      "522  LP002692         Rural         3+             5677\n",
      "539  LP002740         Rural         3+             6417\n",
      "557  LP002795     Semiurban         3+            10139\n",
      "574  LP002863     Semiurban         3+             6406\n",
      "592  LP002933     Semiurban         3+             9357\n",
      "5332.445512820513\n"
     ]
    }
   ],
   "source": [
    "\n",
    "average_urban_income = data[data['Property_Area'] == 'Urban']['ApplicantIncome'].mean()\n",
    "\n",
    "filtered_customers = data[(data['Dependents'] == '3+') & \n",
    "                          ((data['Property_Area'] == 'Rural') | (data['Property_Area'] == 'Semiurban')) & \n",
    "                          (data['ApplicantIncome'] > average_urban_income)]\n",
    "\n",
    "print(\"List of customers who meet the conditions:\")\n",
    "print(filtered_customers[['Loan_ID', 'Property_Area', 'Dependents', 'ApplicantIncome']])\n",
    "\n",
    "average_income_non_urban_y = data[(data['Property_Area'] != 'Urban') & (data['Loan_Status'] == 'Y')]['ApplicantIncome'].mean()\n",
    "\n",
    "print(average_income_non_urban_y)\n"
   ]
  },
  {
   "cell_type": "code",
   "execution_count": null,
   "id": "f61c56b3",
   "metadata": {},
   "outputs": [],
   "source": []
  }
 ],
 "metadata": {
  "kernelspec": {
   "display_name": "Python 3 (ipykernel)",
   "language": "python",
   "name": "python3"
  },
  "language_info": {
   "codemirror_mode": {
    "name": "ipython",
    "version": 3
   },
   "file_extension": ".py",
   "mimetype": "text/x-python",
   "name": "python",
   "nbconvert_exporter": "python",
   "pygments_lexer": "ipython3",
   "version": "3.11.5"
  }
 },
 "nbformat": 4,
 "nbformat_minor": 5
}

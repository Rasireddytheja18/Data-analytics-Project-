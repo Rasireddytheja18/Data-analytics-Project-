{
 "cells": [
  {
   "cell_type": "code",
   "execution_count": 1,
   "id": "03e7f548",
   "metadata": {},
   "outputs": [],
   "source": [
    "# task 1"
   ]
  },
  {
   "cell_type": "code",
   "execution_count": 6,
   "id": "41d18850",
   "metadata": {},
   "outputs": [
    {
     "name": "stdout",
     "output_type": "stream",
     "text": [
      "[1001, 1002, 1003, 1004, 1005, 1006, 1007, 1008, 1009, 1010, 1011, 1012, 1013, 1014, 1015, 1016, 1017, 1018, 1019, 1020, 1021, 1022, 1023, 1024, 1025, 1026, 1027, 1028, 1029, 1030, 1031, 1032, 1033, 1034, 1035, 1036, 1037, 1038, 1039, 1040]\n"
     ]
    }
   ],
   "source": [
    "import pandas as pd\n",
    "\n",
    "# Generate student IDs starting from 1001, increasing by 1\n",
    "student_ids = list(range(1001, 1041))\n",
    "\n",
    "# Display the student IDs\n",
    "print(student_ids)\n",
    "\n"
   ]
  },
  {
   "cell_type": "code",
   "execution_count": 3,
   "id": "d3de0bb6",
   "metadata": {},
   "outputs": [],
   "source": [
    "# task 2"
   ]
  },
  {
   "cell_type": "code",
   "execution_count": 2,
   "id": "10ae7cef",
   "metadata": {},
   "outputs": [
    {
     "name": "stdout",
     "output_type": "stream",
     "text": [
      "Mathematics Scores:\n",
      "1001    35\n",
      "1002    86\n",
      "1003    63\n",
      "1004    90\n",
      "1005    50\n",
      "1006    63\n",
      "1007    15\n",
      "1008    72\n",
      "1009    15\n",
      "1010    54\n",
      "1011    72\n",
      "1012    83\n",
      "1013    58\n",
      "1014    70\n",
      "1015    92\n",
      "1016    40\n",
      "1017    59\n",
      "1018    63\n",
      "1019    53\n",
      "1020    59\n",
      "1021    55\n",
      "1022    85\n",
      "1023    18\n",
      "1024    83\n",
      "1025    67\n",
      "1026    85\n",
      "1027    46\n",
      "1028    59\n",
      "1029    77\n",
      "1030    71\n",
      "1031    77\n",
      "1032    56\n",
      "1033    79\n",
      "1034    61\n",
      "1035    82\n",
      "1036    76\n",
      "1037    60\n",
      "1038    52\n",
      "1039    88\n",
      "1040    78\n",
      "dtype: int64\n",
      "Physics Scores:\n",
      "1001    85\n",
      "1002    94\n",
      "1003    63\n",
      "1004    59\n",
      "1005    76\n",
      "1006    64\n",
      "1007    87\n",
      "1008    55\n",
      "1009    51\n",
      "1010    71\n",
      "1011    54\n",
      "1012    94\n",
      "1013    33\n",
      "1014    72\n",
      "1015    75\n",
      "1016    67\n",
      "1017    85\n",
      "1018    15\n",
      "1019    50\n",
      "1020    50\n",
      "1021    19\n",
      "1022    55\n",
      "1023    59\n",
      "1024    65\n",
      "1025    76\n",
      "1026    13\n",
      "1027    57\n",
      "1028    70\n",
      "1029    51\n",
      "1030    94\n",
      "1031    55\n",
      "1032    50\n",
      "1033    71\n",
      "1034    91\n",
      "1035    75\n",
      "1036    51\n",
      "1037    90\n",
      "1038    70\n",
      "1039    87\n",
      "1040    56\n",
      "dtype: int64\n"
     ]
    }
   ],
   "source": [
    "import pandas as pd\n",
    "# Student IDs from Task 1\n",
    "student_ids = list(range(1001, 1041))\n",
    "\n",
    "# Mathematics and Physics scores\n",
    "maths_marks = [35, 86, 63, 90, 50, 63, 15, 72, 15, 54, 72, 83, 58, 70, 92, 40, 59, 63, 53, 59, 55, 85, 18, 83, 67, 85, 46, 59, 77, 71, 77, 56, 79, 61, 82, 76, 60, 52, 88, 78]\n",
    "physics_marks = [85, 94, 63, 59, 76, 64, 87, 55, 51, 71, 54, 94, 33, 72, 75, 67, 85, 15, 50, 50, 19, 55, 59, 65, 76, 13, 57, 70, 51, 94, 55, 50, 71, 91, 75, 51, 90, 70, 87, 56]\n",
    "\n",
    "maths_dict=pd.Series(maths_marks, index=student_ids)\n",
    "\n",
    "physics_dict =pd.Series(physics_marks, index=student_ids)\n",
    "\n",
    "\n",
    "# Display the dictionaries\n",
    "print(\"Mathematics Scores:\")\n",
    "print(maths_dict)\n",
    "print(\"Physics Scores:\")\n",
    "print(physics_dict)\n"
   ]
  },
  {
   "cell_type": "code",
   "execution_count": 13,
   "id": "3966dee9",
   "metadata": {},
   "outputs": [],
   "source": [
    "# task 3"
   ]
  },
  {
   "cell_type": "code",
   "execution_count": 8,
   "id": "f483ff0e",
   "metadata": {},
   "outputs": [
    {
     "name": "stdout",
     "output_type": "stream",
     "text": [
      "1001    120\n",
      "1002    180\n",
      "1003    126\n",
      "1004    149\n",
      "1005    126\n",
      "1006    127\n",
      "1007    102\n",
      "1008    127\n",
      "1009     66\n",
      "1010    125\n",
      "1011    126\n",
      "1012    177\n",
      "1013     91\n",
      "1014    142\n",
      "1015    167\n",
      "1016    107\n",
      "1017    144\n",
      "1018     78\n",
      "1019    103\n",
      "1020    109\n",
      "1021     74\n",
      "1022    140\n",
      "1023     77\n",
      "1024    148\n",
      "1025    143\n",
      "1026     98\n",
      "1027    103\n",
      "1028    129\n",
      "1029    128\n",
      "1030    165\n",
      "1031    132\n",
      "1032    106\n",
      "1033    150\n",
      "1034    152\n",
      "1035    157\n",
      "1036    127\n",
      "1037    150\n",
      "1038    122\n",
      "1039    175\n",
      "1040    134\n",
      "dtype: int64\n"
     ]
    }
   ],
   "source": [
    "import pandas as pd\n",
    "\n",
    "# Student IDs from Task 1\n",
    "student_ids = pd.Series(range(1001, 1041))\n",
    "\n",
    "# Mathematics and Physics scores\n",
    "maths_marks = [35, 86, 63, 90, 50, 63, 15, 72, 15, 54, 72, 83, 58, 70, 92, 40, 59, 63, 53, 59, 55, 85, 18, 83, 67, 85, 46, 59, 77, 71, 77, 56, 79, 61, 82, 76, 60, 52, 88, 78]\n",
    "physics_marks = [85, 94, 63, 59, 76, 64, 87, 55, 51, 71, 54, 94, 33, 72, 75, 67, 85, 15, 50, 50, 19, 55, 59, 65, 76, 13, 57, 70, 51, 94, 55, 50, 71, 91, 75, 51, 90, 70, 87, 56]\n",
    "\n",
    "# Calculate the sum of scores for each student \n",
    "total_scores = pd.Series([maths_marks[i] + physics_marks[i] for i in range(len(maths_marks))], index=student_ids)\n",
    "\n",
    "# Display the Series\n",
    "print(total_scores)\n"
   ]
  },
  {
   "cell_type": "code",
   "execution_count": 17,
   "id": "bb6d46b9",
   "metadata": {},
   "outputs": [],
   "source": [
    "# task 4"
   ]
  },
  {
   "cell_type": "code",
   "execution_count": 20,
   "id": "a6ac6eb7",
   "metadata": {},
   "outputs": [
    {
     "name": "stdout",
     "output_type": "stream",
     "text": [
      "Qualifying Student IDs:\n",
      "1001    120\n",
      "1002    180\n",
      "1003    126\n",
      "1004    149\n",
      "1005    126\n",
      "1006    127\n",
      "1008    127\n",
      "1010    125\n",
      "1011    126\n",
      "1012    177\n",
      "1014    142\n",
      "1015    167\n",
      "1017    144\n",
      "1022    140\n",
      "1024    148\n",
      "1025    143\n",
      "1028    129\n",
      "1029    128\n",
      "1030    165\n",
      "1031    132\n",
      "1033    150\n",
      "1034    152\n",
      "1035    157\n",
      "1036    127\n",
      "1037    150\n",
      "1038    122\n",
      "1039    175\n",
      "1040    134\n",
      "dtype: int64\n"
     ]
    }
   ],
   "source": [
    "\n",
    "\n",
    "# Filter the Series to find qualifying students\n",
    "qualifying_students = total_scores[total_scores >= 120]\n",
    "\n",
    "# Display the student IDs of the qualifying students\n",
    "print(\"Qualifying Student IDs:\")\n",
    "print(qualifying_students)\n"
   ]
  },
  {
   "cell_type": "code",
   "execution_count": 21,
   "id": "74ff8080",
   "metadata": {},
   "outputs": [],
   "source": [
    "# task 5"
   ]
  },
  {
   "cell_type": "code",
   "execution_count": 25,
   "id": "0d8ca337",
   "metadata": {},
   "outputs": [
    {
     "name": "stdout",
     "output_type": "stream",
     "text": [
      "      round1 qualifiers\n",
      "1002                180\n",
      "1003                126\n",
      "1004                149\n",
      "1005                126\n",
      "1006                127\n",
      "1008                127\n",
      "1010                125\n",
      "1011                126\n",
      "1012                177\n",
      "1014                142\n",
      "1015                167\n",
      "1017                144\n",
      "1022                140\n",
      "1024                148\n",
      "1025                143\n",
      "1028                129\n",
      "1029                128\n",
      "1030                165\n",
      "1031                132\n",
      "1033                150\n",
      "1034                152\n",
      "1035                157\n",
      "1036                127\n",
      "1037                150\n",
      "1038                122\n",
      "1039                175\n",
      "1040                134\n"
     ]
    }
   ],
   "source": [
    "import pandas as pd\n",
    "\n",
    "# Student IDs from Task 1\n",
    "student_ids = pd.Series(range(1001, 1041))\n",
    "\n",
    "# Mathematics and Physics scores\n",
    "maths_marks = [35, 86, 63, 90, 50, 63, 15, 72, 15, 54, 72, 83, 58, 70, 92, 40, 59, 63, 53, 59, 55, 85, 18, 83, 67, 85, 46, 59, 77, 71, 77, 56, 79, 61, 82, 76, 60, 52, 88, 78]\n",
    "physics_marks = [85, 94, 63, 59, 76, 64, 87, 55, 51, 71, 54, 94, 33, 72, 75, 67, 85, 15, 50, 50, 19, 55, 59, 65, 76, 13, 57, 70, 51, 94, 55, 50, 71, 91, 75, 51, 90, 70, 87, 56]\n",
    "\n",
    "# Calculate the sum of scores for each student\n",
    "total_scores = pd.Series([maths + physics for maths, physics in zip(maths_marks, physics_marks)], index=student_ids)\n",
    "\n",
    "# Define the cut-off score\n",
    "cut_off_score = 120\n",
    "\n",
    "# Create a DataFrame with the qualifying students\n",
    "qualifying_students_df = pd.DataFrame({'round1 qualifiers': total_scores[total_scores > cut_off_score]})\n",
    "\n",
    "# Display the DataFrame\n",
    "print(qualifying_students_df)\n"
   ]
  },
  {
   "cell_type": "code",
   "execution_count": 26,
   "id": "1a9e63e1",
   "metadata": {},
   "outputs": [],
   "source": [
    "# task 6"
   ]
  },
  {
   "cell_type": "code",
   "execution_count": 34,
   "id": "39c06262",
   "metadata": {},
   "outputs": [
    {
     "name": "stdout",
     "output_type": "stream",
     "text": [
      "    round 2 qualifiers\n",
      "0                 1002\n",
      "1                 1003\n",
      "2                 1004\n",
      "3                 1005\n",
      "4                 1006\n",
      "5                 1008\n",
      "6                 1010\n",
      "7                 1011\n",
      "8                 1012\n",
      "9                 1014\n",
      "10                1015\n",
      "11                1017\n",
      "12                1022\n",
      "13                1024\n",
      "14                1025\n",
      "15                1028\n",
      "16                1029\n",
      "17                1030\n",
      "18                1031\n",
      "19                1033\n",
      "20                1034\n",
      "21                1035\n",
      "22                1036\n",
      "23                1037\n",
      "24                1038\n",
      "25                1039\n",
      "26                1040\n"
     ]
    }
   ],
   "source": [
    "import pandas as pd\n",
    "\n",
    "# Student IDs from Task 1\n",
    "student_ids = pd.Series(range(1001, 1041))\n",
    "\n",
    "# Mathematics and Physics scores\n",
    "maths_marks = [35, 86, 63, 90, 50, 63, 15, 72, 15, 54, 72, 83, 58, 70, 92, 40, 59, 63, 53, 59, 55, 85, 18, 83, 67, 85, 46, 59, 77, 71, 77, 56, 79, 61, 82, 76, 60, 52, 88, 78]\n",
    "physics_marks = [85, 94, 63, 59, 76, 64, 87, 55, 51, 71, 54, 94, 33, 72, 75, 67, 85, 15, 50, 50, 19, 55, 59, 65, 76, 13, 57, 70, 51, 94, 55, 50, 71, 91, 75, 51, 90, 70, 87, 56]\n",
    "\n",
    "# Create Pandas Series for Mathematics and Physics scores with student IDs as the index\n",
    "maths_series = pd.Series(maths_marks, index=student_ids)\n",
    "physics_series = pd.Series(physics_marks, index=student_ids)\n",
    "\n",
    "# Conditions for round 2 qualification\n",
    "round2_qualifiers = physics_series[(physics_series >= 50) & (maths_series >= 50) & ((physics_series + maths_series) >= 120)]\n",
    "\n",
    "# Create DataFrame with column name \"round 2 qualifiers\"\n",
    "round2_df = pd.DataFrame({\"round 2 qualifiers\": round2_qualifiers.index})\n",
    "\n",
    "# Display the DataFrame\n",
    "print(round2_df)\n"
   ]
  },
  {
   "cell_type": "code",
   "execution_count": 35,
   "id": "ee4b2e47",
   "metadata": {},
   "outputs": [],
   "source": [
    "# task 7"
   ]
  },
  {
   "cell_type": "code",
   "execution_count": 36,
   "id": "c6b3907e",
   "metadata": {},
   "outputs": [],
   "source": [
    "\n",
    "# Display the count of qualifying students for round 2\n",
    "qualifying_students_count = len(round2_df)"
   ]
  },
  {
   "cell_type": "code",
   "execution_count": 38,
   "id": "a11072a7",
   "metadata": {},
   "outputs": [
    {
     "data": {
      "text/plain": [
       "27"
      ]
     },
     "execution_count": 38,
     "metadata": {},
     "output_type": "execute_result"
    }
   ],
   "source": [
    "qualifying_students_count"
   ]
  },
  {
   "cell_type": "code",
   "execution_count": null,
   "id": "b5e0ab85",
   "metadata": {},
   "outputs": [],
   "source": []
  }
 ],
 "metadata": {
  "kernelspec": {
   "display_name": "Python 3 (ipykernel)",
   "language": "python",
   "name": "python3"
  },
  "language_info": {
   "codemirror_mode": {
    "name": "ipython",
    "version": 3
   },
   "file_extension": ".py",
   "mimetype": "text/x-python",
   "name": "python",
   "nbconvert_exporter": "python",
   "pygments_lexer": "ipython3",
   "version": "3.11.5"
  }
 },
 "nbformat": 4,
 "nbformat_minor": 5
}

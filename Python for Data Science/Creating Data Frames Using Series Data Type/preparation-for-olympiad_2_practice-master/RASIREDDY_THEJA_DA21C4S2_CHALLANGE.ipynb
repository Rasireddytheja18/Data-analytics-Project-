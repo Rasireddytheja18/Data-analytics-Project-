{
 "cells": [
  {
   "cell_type": "code",
   "execution_count": 1,
   "id": "9b38f094",
   "metadata": {},
   "outputs": [],
   "source": [
    "# task 1\n"
   ]
  },
  {
   "cell_type": "code",
   "execution_count": 2,
   "id": "f04a62a4",
   "metadata": {},
   "outputs": [
    {
     "name": "stdout",
     "output_type": "stream",
     "text": [
      "101    80121\n",
      "102    48483\n",
      "103    37077\n",
      "104    30660\n",
      "105    68536\n",
      "106    52666\n",
      "107    78703\n",
      "108    51036\n",
      "109    55643\n",
      "110    56990\n",
      "111    39967\n",
      "112    93822\n",
      "113    51406\n",
      "114    93947\n",
      "115    78373\n",
      "116    62765\n",
      "117    47536\n",
      "118    40528\n",
      "119    58780\n",
      "120    83197\n",
      "dtype: int64\n"
     ]
    }
   ],
   "source": [
    "import pandas as pd\n",
    "price_data = [80121, 48483, 37077, 30660, 68536, 52666, 78703, 51036, 55643, 56990, 39967, 93822, 51406, 93947, 78373, 62765, 47536, 40528, 58780, 83197]\n",
    "car_prices = pd.Series(price_data, index=range(101, 121))\n",
    "print(car_prices)"
   ]
  },
  {
   "cell_type": "code",
   "execution_count": 3,
   "id": "31a236c0",
   "metadata": {},
   "outputs": [],
   "source": [
    "# task 2"
   ]
  },
  {
   "cell_type": "code",
   "execution_count": 4,
   "id": "643533db",
   "metadata": {},
   "outputs": [],
   "source": [
    "highest_price = car_prices.max()\n",
    "lowest_price = car_prices.min()"
   ]
  },
  {
   "cell_type": "code",
   "execution_count": 5,
   "id": "833f5dd2",
   "metadata": {},
   "outputs": [
    {
     "data": {
      "text/plain": [
       "93947"
      ]
     },
     "execution_count": 5,
     "metadata": {},
     "output_type": "execute_result"
    }
   ],
   "source": [
    "highest_price"
   ]
  },
  {
   "cell_type": "code",
   "execution_count": 6,
   "id": "5fe64aa8",
   "metadata": {},
   "outputs": [
    {
     "data": {
      "text/plain": [
       "30660"
      ]
     },
     "execution_count": 6,
     "metadata": {},
     "output_type": "execute_result"
    }
   ],
   "source": [
    "lowest_price\n"
   ]
  },
  {
   "cell_type": "code",
   "execution_count": 7,
   "id": "f0fbd675",
   "metadata": {},
   "outputs": [],
   "source": [
    "# task 3"
   ]
  },
  {
   "cell_type": "code",
   "execution_count": 10,
   "id": "716ae845",
   "metadata": {},
   "outputs": [],
   "source": [
    "top5cars = car_prices.sort_values(ascending=False).head(5)"
   ]
  },
  {
   "cell_type": "code",
   "execution_count": 9,
   "id": "81eca90e",
   "metadata": {},
   "outputs": [
    {
     "data": {
      "text/plain": [
       "114    93947\n",
       "112    93822\n",
       "120    83197\n",
       "101    80121\n",
       "107    78703\n",
       "dtype: int64"
      ]
     },
     "execution_count": 9,
     "metadata": {},
     "output_type": "execute_result"
    }
   ],
   "source": [
    "top5cars"
   ]
  },
  {
   "cell_type": "code",
   "execution_count": 11,
   "id": "e98f4713",
   "metadata": {},
   "outputs": [],
   "source": [
    "# task 4"
   ]
  },
  {
   "cell_type": "code",
   "execution_count": 17,
   "id": "40dca598",
   "metadata": {},
   "outputs": [
    {
     "name": "stdout",
     "output_type": "stream",
     "text": [
      "         0\n",
      "103  37077\n",
      "104  30660\n",
      "111  39967\n"
     ]
    }
   ],
   "source": [
    "filtered_cars = car_prices[car_prices.between(30000, 40000)]\n",
    "filtered_cars_df = pd.DataFrame(filtered_cars)\n",
    "print(filtered_cars_df)"
   ]
  },
  {
   "cell_type": "code",
   "execution_count": 1,
   "id": "c450e23f",
   "metadata": {},
   "outputs": [],
   "source": [
    "# task 5"
   ]
  },
  {
   "cell_type": "code",
   "execution_count": 18,
   "id": "adaac424",
   "metadata": {},
   "outputs": [
    {
     "name": "stdout",
     "output_type": "stream",
     "text": [
      "Cars Priced Above Average:\n",
      "101    80121\n",
      "105    68536\n",
      "107    78703\n",
      "112    93822\n",
      "114    93947\n",
      "115    78373\n",
      "116    62765\n",
      "120    83197\n",
      "dtype: int64\n",
      "Total Cars Priced Above Average: 8\n"
     ]
    }
   ],
   "source": [
    "average_price = car_prices.mean()\n",
    "above_average_cars = car_prices[car_prices > average_price]\n",
    "print(\"Cars Priced Above Average:\")\n",
    "print(above_average_cars)\n",
    "count_above_average = above_average_cars.count()\n",
    "print(f\"Total Cars Priced Above Average: {count_above_average}\")"
   ]
  },
  {
   "cell_type": "code",
   "execution_count": 13,
   "id": "c34dcb6c",
   "metadata": {},
   "outputs": [],
   "source": [
    "# task 6"
   ]
  },
  {
   "cell_type": "code",
   "execution_count": 21,
   "id": "1a2b6804",
   "metadata": {},
   "outputs": [
    {
     "data": {
      "text/plain": [
       "101    80121\n",
       "102    48483\n",
       "103    37077\n",
       "104    30660\n",
       "105    68536\n",
       "106    52666\n",
       "107    78703\n",
       "108    51036\n",
       "109    55643\n",
       "110    56990\n",
       "111    39967\n",
       "112    93822\n",
       "113    51406\n",
       "114    93947\n",
       "115    78373\n",
       "116    62765\n",
       "117    47536\n",
       "118    40528\n",
       "119    58780\n",
       "120    83197\n",
       "201    34000\n",
       "202    45000\n",
       "203    54000\n",
       "dtype: int64"
      ]
     },
     "execution_count": 21,
     "metadata": {},
     "output_type": "execute_result"
    }
   ],
   "source": [
    "new_car_prices = pd.Series([34000, 45000, 54000], index=[201, 202, 203])\n",
    "updated_car_prices = pd.concat([car_prices, new_car_prices])\n",
    "updated_car_prices"
   ]
  },
  {
   "cell_type": "code",
   "execution_count": 15,
   "id": "7e1daf99",
   "metadata": {},
   "outputs": [],
   "source": [
    "# task 7"
   ]
  },
  {
   "cell_type": "code",
   "execution_count": 51,
   "id": "11ca730c",
   "metadata": {},
   "outputs": [
    {
     "data": {
      "text/plain": [
       "Series([], dtype: float64)"
      ]
     },
     "execution_count": 51,
     "metadata": {},
     "output_type": "execute_result"
    }
   ],
   "source": [
    "discount_percentage = 20\n",
    "high_priced_cars = updated_car_prices[updated_car_prices > 60000]\n",
    "discounted_prices = high_priced_cars * (1 - discount_percentage/100)\n",
    "discounted_prices"
   ]
  },
  {
   "cell_type": "code",
   "execution_count": 29,
   "id": "60e3ab4b",
   "metadata": {},
   "outputs": [],
   "source": [
    "# task 8"
   ]
  },
  {
   "cell_type": "code",
   "execution_count": 26,
   "id": "581ab844",
   "metadata": {},
   "outputs": [
    {
     "name": "stdout",
     "output_type": "stream",
     "text": [
      "Updated Car Prices:\n",
      "102    48483\n",
      "103    37077\n",
      "104    30660\n",
      "106    52666\n",
      "108    51036\n",
      "109    55643\n",
      "110    56990\n",
      "111    39967\n",
      "113    51406\n",
      "117    47536\n",
      "118    40528\n",
      "119    58780\n",
      "201    34000\n",
      "202    45000\n",
      "203    54000\n",
      "dtype: int64\n",
      "\n",
      "Total Cars Before Update: 23\n",
      "Total Cars After Update: 15\n"
     ]
    }
   ],
   "source": [
    "discount_percentage = 20\n",
    "high_priced_cars = updated_car_prices[updated_car_prices > 60000]\n",
    "updated_car_prices = updated_car_prices[updated_car_prices <= 60000]\n",
    "print(\"Updated Car Prices:\")\n",
    "print(updated_car_prices)\n",
    "count_before_update = len(updated_car_prices) + len(high_priced_cars)\n",
    "count_after_update = len(updated_car_prices)\n",
    "print(f\"\\nTotal Cars Before Update: {count_before_update}\")\n",
    "print(f\"Total Cars After Update: {count_after_update}\")"
   ]
  },
  {
   "cell_type": "code",
   "execution_count": null,
   "id": "2d5f0822",
   "metadata": {},
   "outputs": [],
   "source": []
  }
 ],
 "metadata": {
  "kernelspec": {
   "display_name": "Python 3 (ipykernel)",
   "language": "python",
   "name": "python3"
  },
  "language_info": {
   "codemirror_mode": {
    "name": "ipython",
    "version": 3
   },
   "file_extension": ".py",
   "mimetype": "text/x-python",
   "name": "python",
   "nbconvert_exporter": "python",
   "pygments_lexer": "ipython3",
   "version": "3.11.5"
  }
 },
 "nbformat": 4,
 "nbformat_minor": 5
}

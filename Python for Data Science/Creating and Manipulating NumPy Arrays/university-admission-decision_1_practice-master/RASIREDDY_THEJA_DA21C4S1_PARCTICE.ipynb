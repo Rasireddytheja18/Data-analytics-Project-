{
 "cells": [
  {
   "cell_type": "code",
   "execution_count": null,
   "id": "ef0f7e0f",
   "metadata": {},
   "outputs": [],
   "source": [
    "#TASK 1"
   ]
  },
  {
   "cell_type": "code",
   "execution_count": 13,
   "id": "689e5b12",
   "metadata": {},
   "outputs": [
    {
     "name": "stdout",
     "output_type": "stream",
     "text": [
      "HR Department IDs : [1 2 3]\n",
      "IT Department IDs : [ 4  5  6  7  8  9 10 11 12 13 14 15 16 17 18]\n",
      "Finance Department IDs : [19 20 21 22 23]\n",
      "Sales Department IDs : [24 25 26 27 28 29 30 31]\n"
     ]
    }
   ],
   "source": [
    "import numpy as np\n",
    "\n",
    "HR = np.arange(1, 4)\n",
    "IT = np.arange(4, 19)\n",
    "FINANCE = np.arange(19, 24)\n",
    "SALES = np.arange(24, 32)\n",
    "\n",
    "print(\"HR Department IDs :\", HR)\n",
    "print(\"IT Department IDs :\", IT)\n",
    "print(\"Finance Department IDs :\", FINANCE)\n",
    "print(\"Sales Department IDs :\", SALES)\n"
   ]
  },
  {
   "cell_type": "code",
   "execution_count": 14,
   "id": "e40ec41e",
   "metadata": {},
   "outputs": [],
   "source": [
    "#TASK 2"
   ]
  },
  {
   "cell_type": "code",
   "execution_count": 23,
   "id": "f075c1e6",
   "metadata": {},
   "outputs": [
    {
     "name": "stdout",
     "output_type": "stream",
     "text": [
      "HR Salaries: [50 60 57]\n",
      "IT Salaries: [67 67 67 67 67 67 67 67 67 67 67 67 67 67 67]\n",
      "Finance Salaries: [60 65 50 70 87]\n",
      "Sales Salaries: [50 60 65 90 56 65 71]\n"
     ]
    }
   ],
   "source": [
    "import numpy as np\n",
    "\n",
    "\n",
    "hr_sal = np.array((50, 60, 57))\n",
    "it_sal = np.repeat(67, 15)\n",
    "finance_sal = np.array((60, 65, 50, 70, 87))\n",
    "sales_sal = np.array((50, 60, 65, 90, 56, 65, 71))\n",
    "\n",
    "\n",
    "print(\"HR Salaries:\", hr_sal)\n",
    "print(\"IT Salaries:\", it_sal)\n",
    "print(\"Finance Salaries:\", finance_sal)\n",
    "print(\"Sales Salaries:\", sales_sal)\n"
   ]
  },
  {
   "cell_type": "code",
   "execution_count": 24,
   "id": "15755873",
   "metadata": {},
   "outputs": [],
   "source": [
    "# TASK 3"
   ]
  },
  {
   "cell_type": "code",
   "execution_count": 37,
   "id": "96dec4ad",
   "metadata": {},
   "outputs": [
    {
     "name": "stdout",
     "output_type": "stream",
     "text": [
      "HR Department - Average Salary: 55.666666666666664\n",
      "IT Department - Average Salary: 67.0\n",
      "Finance Department - Average Salary: 66.4\n",
      "Sales Department - Average Salary: 65.28571428571429\n",
      "Department with the Highest Average Salary: Sales\n"
     ]
    }
   ],
   "source": [
    "hr_avg = np.mean(hr_sal)\n",
    "it_avg = np.mean(it_sal)\n",
    "finance_avg = np.mean(finance_sal)\n",
    "sales_avg = np.mean(sales_sal)\n",
    "\n",
    "print(\"HR Department - Average Salary:\", hr_avg)\n",
    "print(\"IT Department - Average Salary:\", it_avg)\n",
    "print(\"Finance Department - Average Salary:\", finance_avg)\n",
    "print(\"Sales Department - Average Salary:\", sales_avg)\n",
    "\n",
    "department_salaries = {\n",
    "    \"HR\": hr_avg,\n",
    "    \"IT\": it_avg,\n",
    "    \"Finance\": finance_avg,\n",
    "    \"Sales\": sales_avg\n",
    "}\n",
    "highest_avg_salary = max(department_salaries)\n",
    "\n",
    "print(\"Department with the Highest Average Salary:\", highest_avg_salary)"
   ]
  },
  {
   "cell_type": "code",
   "execution_count": 38,
   "id": "ff64d0bf",
   "metadata": {},
   "outputs": [],
   "source": [
    "# TASK 4"
   ]
  },
  {
   "cell_type": "code",
   "execution_count": 40,
   "id": "b986bafc",
   "metadata": {},
   "outputs": [
    {
     "name": "stdout",
     "output_type": "stream",
     "text": [
      "Highest Salary in HR Department: 60\n",
      "Highest Salary in Finance Department: 87\n"
     ]
    }
   ],
   "source": [
    "highest_hr_salary = np.max(hr_sal)\n",
    "highest_finance_salary = np.max(finance_sal)\n",
    "\n",
    "print(\"Highest Salary in HR Department:\", highest_hr_salary)\n",
    "print(\"Highest Salary in Finance Department:\", highest_finance_salary)"
   ]
  },
  {
   "cell_type": "code",
   "execution_count": 41,
   "id": "f47e1887",
   "metadata": {},
   "outputs": [],
   "source": [
    "# TASK 5"
   ]
  },
  {
   "cell_type": "code",
   "execution_count": 42,
   "id": "240cfbff",
   "metadata": {},
   "outputs": [
    {
     "name": "stdout",
     "output_type": "stream",
     "text": [
      "IT Salaries with 5% Bonus: [70.35 70.35 70.35 70.35 70.35 70.35 70.35 70.35 70.35 70.35 70.35 70.35\n",
      " 70.35 70.35 70.35]\n"
     ]
    }
   ],
   "source": [
    "it_sal = np.array([67, 67, 67, 67, 67, 67, 67, 67, 67, 67, 67, 67, 67, 67, 67])\n",
    "it_sal_with_bonus = it_sal * 1.05\n",
    "\n",
    "print(\"IT Salaries with 5% Bonus:\", it_sal_with_bonus)"
   ]
  },
  {
   "cell_type": "code",
   "execution_count": null,
   "id": "2f34d158",
   "metadata": {},
   "outputs": [],
   "source": []
  }
 ],
 "metadata": {
  "kernelspec": {
   "display_name": "Python 3 (ipykernel)",
   "language": "python",
   "name": "python3"
  },
  "language_info": {
   "codemirror_mode": {
    "name": "ipython",
    "version": 3
   },
   "file_extension": ".py",
   "mimetype": "text/x-python",
   "name": "python",
   "nbconvert_exporter": "python",
   "pygments_lexer": "ipython3",
   "version": "3.11.5"
  }
 },
 "nbformat": 4,
 "nbformat_minor": 5
}

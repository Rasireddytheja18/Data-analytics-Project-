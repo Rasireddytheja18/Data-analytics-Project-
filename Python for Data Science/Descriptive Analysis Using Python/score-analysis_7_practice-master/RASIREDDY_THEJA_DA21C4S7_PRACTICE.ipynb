{
 "cells": [
  {
   "cell_type": "code",
   "execution_count": 58,
   "id": "44cd6426",
   "metadata": {},
   "outputs": [],
   "source": [
    "import pandas as pd"
   ]
  },
  {
   "cell_type": "code",
   "execution_count": 59,
   "id": "56648154",
   "metadata": {},
   "outputs": [
    {
     "data": {
      "text/html": [
       "<div>\n",
       "<style scoped>\n",
       "    .dataframe tbody tr th:only-of-type {\n",
       "        vertical-align: middle;\n",
       "    }\n",
       "\n",
       "    .dataframe tbody tr th {\n",
       "        vertical-align: top;\n",
       "    }\n",
       "\n",
       "    .dataframe thead th {\n",
       "        text-align: right;\n",
       "    }\n",
       "</style>\n",
       "<table border=\"1\" class=\"dataframe\">\n",
       "  <thead>\n",
       "    <tr style=\"text-align: right;\">\n",
       "      <th></th>\n",
       "      <th>Statistics</th>\n",
       "      <th>Python</th>\n",
       "      <th>Tableau</th>\n",
       "    </tr>\n",
       "  </thead>\n",
       "  <tbody>\n",
       "    <tr>\n",
       "      <th>0</th>\n",
       "      <td>61</td>\n",
       "      <td>86</td>\n",
       "      <td>66</td>\n",
       "    </tr>\n",
       "    <tr>\n",
       "      <th>1</th>\n",
       "      <td>54</td>\n",
       "      <td>86</td>\n",
       "      <td>72</td>\n",
       "    </tr>\n",
       "    <tr>\n",
       "      <th>2</th>\n",
       "      <td>56</td>\n",
       "      <td>80</td>\n",
       "      <td>78</td>\n",
       "    </tr>\n",
       "    <tr>\n",
       "      <th>3</th>\n",
       "      <td>54</td>\n",
       "      <td>85</td>\n",
       "      <td>45</td>\n",
       "    </tr>\n",
       "    <tr>\n",
       "      <th>4</th>\n",
       "      <td>53</td>\n",
       "      <td>84</td>\n",
       "      <td>68</td>\n",
       "    </tr>\n",
       "    <tr>\n",
       "      <th>...</th>\n",
       "      <td>...</td>\n",
       "      <td>...</td>\n",
       "      <td>...</td>\n",
       "    </tr>\n",
       "    <tr>\n",
       "      <th>95</th>\n",
       "      <td>60</td>\n",
       "      <td>76</td>\n",
       "      <td>64</td>\n",
       "    </tr>\n",
       "    <tr>\n",
       "      <th>96</th>\n",
       "      <td>59</td>\n",
       "      <td>89</td>\n",
       "      <td>70</td>\n",
       "    </tr>\n",
       "    <tr>\n",
       "      <th>97</th>\n",
       "      <td>62</td>\n",
       "      <td>80</td>\n",
       "      <td>46</td>\n",
       "    </tr>\n",
       "    <tr>\n",
       "      <th>98</th>\n",
       "      <td>58</td>\n",
       "      <td>89</td>\n",
       "      <td>74</td>\n",
       "    </tr>\n",
       "    <tr>\n",
       "      <th>99</th>\n",
       "      <td>67</td>\n",
       "      <td>77</td>\n",
       "      <td>70</td>\n",
       "    </tr>\n",
       "  </tbody>\n",
       "</table>\n",
       "<p>100 rows × 3 columns</p>\n",
       "</div>"
      ],
      "text/plain": [
       "    Statistics  Python  Tableau\n",
       "0           61      86       66\n",
       "1           54      86       72\n",
       "2           56      80       78\n",
       "3           54      85       45\n",
       "4           53      84       68\n",
       "..         ...     ...      ...\n",
       "95          60      76       64\n",
       "96          59      89       70\n",
       "97          62      80       46\n",
       "98          58      89       74\n",
       "99          67      77       70\n",
       "\n",
       "[100 rows x 3 columns]"
      ]
     },
     "execution_count": 59,
     "metadata": {},
     "output_type": "execute_result"
    }
   ],
   "source": [
    "data = pd.read_csv('DS1_C4_S7_Students_Scores_Data_Practice.csv')\n",
    "data"
   ]
  },
  {
   "cell_type": "markdown",
   "id": "5d1571f2",
   "metadata": {},
   "source": [
    "### Task - 1"
   ]
  },
  {
   "cell_type": "code",
   "execution_count": 60,
   "id": "96295bbc",
   "metadata": {},
   "outputs": [
    {
     "data": {
      "text/html": [
       "<div>\n",
       "<style scoped>\n",
       "    .dataframe tbody tr th:only-of-type {\n",
       "        vertical-align: middle;\n",
       "    }\n",
       "\n",
       "    .dataframe tbody tr th {\n",
       "        vertical-align: top;\n",
       "    }\n",
       "\n",
       "    .dataframe thead th {\n",
       "        text-align: right;\n",
       "    }\n",
       "</style>\n",
       "<table border=\"1\" class=\"dataframe\">\n",
       "  <thead>\n",
       "    <tr style=\"text-align: right;\">\n",
       "      <th></th>\n",
       "    </tr>\n",
       "  </thead>\n",
       "  <tbody>\n",
       "  </tbody>\n",
       "</table>\n",
       "</div>"
      ],
      "text/plain": [
       "Empty DataFrame\n",
       "Columns: []\n",
       "Index: []"
      ]
     },
     "execution_count": 60,
     "metadata": {},
     "output_type": "execute_result"
    }
   ],
   "source": [
    "ct_df = pd.DataFrame()\n",
    "ct_df"
   ]
  },
  {
   "cell_type": "code",
   "execution_count": 61,
   "id": "add228ed",
   "metadata": {},
   "outputs": [
    {
     "data": {
      "text/html": [
       "<div>\n",
       "<style scoped>\n",
       "    .dataframe tbody tr th:only-of-type {\n",
       "        vertical-align: middle;\n",
       "    }\n",
       "\n",
       "    .dataframe tbody tr th {\n",
       "        vertical-align: top;\n",
       "    }\n",
       "\n",
       "    .dataframe thead th {\n",
       "        text-align: right;\n",
       "    }\n",
       "</style>\n",
       "<table border=\"1\" class=\"dataframe\">\n",
       "  <thead>\n",
       "    <tr style=\"text-align: right;\">\n",
       "      <th></th>\n",
       "    </tr>\n",
       "    <tr>\n",
       "      <th>central_tend</th>\n",
       "    </tr>\n",
       "  </thead>\n",
       "  <tbody>\n",
       "    <tr>\n",
       "      <th>mean</th>\n",
       "    </tr>\n",
       "    <tr>\n",
       "      <th>median</th>\n",
       "    </tr>\n",
       "    <tr>\n",
       "      <th>mode</th>\n",
       "    </tr>\n",
       "  </tbody>\n",
       "</table>\n",
       "</div>"
      ],
      "text/plain": [
       "Empty DataFrame\n",
       "Columns: []\n",
       "Index: [mean, median, mode]"
      ]
     },
     "execution_count": 61,
     "metadata": {},
     "output_type": "execute_result"
    }
   ],
   "source": [
    "ct_df['central_tend']=['mean','median','mode']\n",
    "ct_df.set_index('central_tend', inplace=True)\n",
    "ct_df"
   ]
  },
  {
   "cell_type": "code",
   "execution_count": 62,
   "id": "034dbd9f",
   "metadata": {},
   "outputs": [
    {
     "data": {
      "text/plain": [
       "Index(['Statistics', 'Python', 'Tableau'], dtype='object')"
      ]
     },
     "execution_count": 62,
     "metadata": {},
     "output_type": "execute_result"
    }
   ],
   "source": [
    "data.columns"
   ]
  },
  {
   "cell_type": "code",
   "execution_count": 63,
   "id": "bde0731e",
   "metadata": {},
   "outputs": [
    {
     "data": {
      "text/plain": [
       "[60.89, 60.0, 55]"
      ]
     },
     "execution_count": 63,
     "metadata": {},
     "output_type": "execute_result"
    }
   ],
   "source": [
    "intel_list = []\n",
    "intel_list.append(data['Statistics'].mean())\n",
    "intel_list.append(data['Statistics'].median())\n",
    "intel_list.append(data['Statistics'].mode()[0])\n",
    "intel_list"
   ]
  },
  {
   "cell_type": "code",
   "execution_count": 64,
   "id": "771f29b6",
   "metadata": {},
   "outputs": [
    {
     "data": {
      "text/html": [
       "<div>\n",
       "<style scoped>\n",
       "    .dataframe tbody tr th:only-of-type {\n",
       "        vertical-align: middle;\n",
       "    }\n",
       "\n",
       "    .dataframe tbody tr th {\n",
       "        vertical-align: top;\n",
       "    }\n",
       "\n",
       "    .dataframe thead th {\n",
       "        text-align: right;\n",
       "    }\n",
       "</style>\n",
       "<table border=\"1\" class=\"dataframe\">\n",
       "  <thead>\n",
       "    <tr style=\"text-align: right;\">\n",
       "      <th></th>\n",
       "      <th>Statistics</th>\n",
       "    </tr>\n",
       "    <tr>\n",
       "      <th>central_tend</th>\n",
       "      <th></th>\n",
       "    </tr>\n",
       "  </thead>\n",
       "  <tbody>\n",
       "    <tr>\n",
       "      <th>mean</th>\n",
       "      <td>60.89</td>\n",
       "    </tr>\n",
       "    <tr>\n",
       "      <th>median</th>\n",
       "      <td>60.00</td>\n",
       "    </tr>\n",
       "    <tr>\n",
       "      <th>mode</th>\n",
       "      <td>55.00</td>\n",
       "    </tr>\n",
       "  </tbody>\n",
       "</table>\n",
       "</div>"
      ],
      "text/plain": [
       "              Statistics\n",
       "central_tend            \n",
       "mean               60.89\n",
       "median             60.00\n",
       "mode               55.00"
      ]
     },
     "execution_count": 64,
     "metadata": {},
     "output_type": "execute_result"
    }
   ],
   "source": [
    "ct_df['Statistics']=intel_list\n",
    "ct_df"
   ]
  },
  {
   "cell_type": "code",
   "execution_count": 65,
   "id": "914b1198",
   "metadata": {},
   "outputs": [
    {
     "data": {
      "text/plain": [
       "[81.84, 82.0, 86]"
      ]
     },
     "execution_count": 65,
     "metadata": {},
     "output_type": "execute_result"
    }
   ],
   "source": [
    "intel_list1 = []\n",
    "intel_list1.append(data['Python'].mean())\n",
    "intel_list1.append(data['Python'].median())\n",
    "intel_list1.append(data['Python'].mode()[0])\n",
    "intel_list1"
   ]
  },
  {
   "cell_type": "code",
   "execution_count": 66,
   "id": "ebba4bc9",
   "metadata": {},
   "outputs": [
    {
     "data": {
      "text/html": [
       "<div>\n",
       "<style scoped>\n",
       "    .dataframe tbody tr th:only-of-type {\n",
       "        vertical-align: middle;\n",
       "    }\n",
       "\n",
       "    .dataframe tbody tr th {\n",
       "        vertical-align: top;\n",
       "    }\n",
       "\n",
       "    .dataframe thead th {\n",
       "        text-align: right;\n",
       "    }\n",
       "</style>\n",
       "<table border=\"1\" class=\"dataframe\">\n",
       "  <thead>\n",
       "    <tr style=\"text-align: right;\">\n",
       "      <th></th>\n",
       "      <th>Statistics</th>\n",
       "      <th>Python</th>\n",
       "    </tr>\n",
       "    <tr>\n",
       "      <th>central_tend</th>\n",
       "      <th></th>\n",
       "      <th></th>\n",
       "    </tr>\n",
       "  </thead>\n",
       "  <tbody>\n",
       "    <tr>\n",
       "      <th>mean</th>\n",
       "      <td>60.89</td>\n",
       "      <td>81.84</td>\n",
       "    </tr>\n",
       "    <tr>\n",
       "      <th>median</th>\n",
       "      <td>60.00</td>\n",
       "      <td>82.00</td>\n",
       "    </tr>\n",
       "    <tr>\n",
       "      <th>mode</th>\n",
       "      <td>55.00</td>\n",
       "      <td>86.00</td>\n",
       "    </tr>\n",
       "  </tbody>\n",
       "</table>\n",
       "</div>"
      ],
      "text/plain": [
       "              Statistics  Python\n",
       "central_tend                    \n",
       "mean               60.89   81.84\n",
       "median             60.00   82.00\n",
       "mode               55.00   86.00"
      ]
     },
     "execution_count": 66,
     "metadata": {},
     "output_type": "execute_result"
    }
   ],
   "source": [
    "ct_df['Python']=intel_list1\n",
    "ct_df"
   ]
  },
  {
   "cell_type": "code",
   "execution_count": 67,
   "id": "e35e52b3",
   "metadata": {},
   "outputs": [
    {
     "data": {
      "text/plain": [
       "[68.02, 69.0, 65]"
      ]
     },
     "execution_count": 67,
     "metadata": {},
     "output_type": "execute_result"
    }
   ],
   "source": [
    "intel_list2 = []\n",
    "intel_list2.append(data['Tableau'].mean())\n",
    "intel_list2.append(data['Tableau'].median())\n",
    "intel_list2.append(data['Tableau'].mode()[0])\n",
    "intel_list2"
   ]
  },
  {
   "cell_type": "code",
   "execution_count": 68,
   "id": "20345e0d",
   "metadata": {},
   "outputs": [
    {
     "data": {
      "text/html": [
       "<div>\n",
       "<style scoped>\n",
       "    .dataframe tbody tr th:only-of-type {\n",
       "        vertical-align: middle;\n",
       "    }\n",
       "\n",
       "    .dataframe tbody tr th {\n",
       "        vertical-align: top;\n",
       "    }\n",
       "\n",
       "    .dataframe thead th {\n",
       "        text-align: right;\n",
       "    }\n",
       "</style>\n",
       "<table border=\"1\" class=\"dataframe\">\n",
       "  <thead>\n",
       "    <tr style=\"text-align: right;\">\n",
       "      <th></th>\n",
       "      <th>Statistics</th>\n",
       "      <th>Python</th>\n",
       "      <th>Tableau</th>\n",
       "    </tr>\n",
       "    <tr>\n",
       "      <th>central_tend</th>\n",
       "      <th></th>\n",
       "      <th></th>\n",
       "      <th></th>\n",
       "    </tr>\n",
       "  </thead>\n",
       "  <tbody>\n",
       "    <tr>\n",
       "      <th>mean</th>\n",
       "      <td>60.89</td>\n",
       "      <td>81.84</td>\n",
       "      <td>68.02</td>\n",
       "    </tr>\n",
       "    <tr>\n",
       "      <th>median</th>\n",
       "      <td>60.00</td>\n",
       "      <td>82.00</td>\n",
       "      <td>69.00</td>\n",
       "    </tr>\n",
       "    <tr>\n",
       "      <th>mode</th>\n",
       "      <td>55.00</td>\n",
       "      <td>86.00</td>\n",
       "      <td>65.00</td>\n",
       "    </tr>\n",
       "  </tbody>\n",
       "</table>\n",
       "</div>"
      ],
      "text/plain": [
       "              Statistics  Python  Tableau\n",
       "central_tend                             \n",
       "mean               60.89   81.84    68.02\n",
       "median             60.00   82.00    69.00\n",
       "mode               55.00   86.00    65.00"
      ]
     },
     "execution_count": 68,
     "metadata": {},
     "output_type": "execute_result"
    }
   ],
   "source": [
    "ct_df['Tableau']=intel_list2\n",
    "ct_df"
   ]
  },
  {
   "cell_type": "markdown",
   "id": "7500f479",
   "metadata": {},
   "source": [
    "### Task - 2"
   ]
  },
  {
   "cell_type": "code",
   "execution_count": 69,
   "id": "f5e241f1",
   "metadata": {},
   "outputs": [
    {
     "data": {
      "text/html": [
       "<div>\n",
       "<style scoped>\n",
       "    .dataframe tbody tr th:only-of-type {\n",
       "        vertical-align: middle;\n",
       "    }\n",
       "\n",
       "    .dataframe tbody tr th {\n",
       "        vertical-align: top;\n",
       "    }\n",
       "\n",
       "    .dataframe thead th {\n",
       "        text-align: right;\n",
       "    }\n",
       "</style>\n",
       "<table border=\"1\" class=\"dataframe\">\n",
       "  <thead>\n",
       "    <tr style=\"text-align: right;\">\n",
       "      <th></th>\n",
       "    </tr>\n",
       "  </thead>\n",
       "  <tbody>\n",
       "  </tbody>\n",
       "</table>\n",
       "</div>"
      ],
      "text/plain": [
       "Empty DataFrame\n",
       "Columns: []\n",
       "Index: []"
      ]
     },
     "execution_count": 69,
     "metadata": {},
     "output_type": "execute_result"
    }
   ],
   "source": [
    "import pandas as pd\n",
    "best_df = pd.DataFrame()\n",
    "best_df"
   ]
  },
  {
   "cell_type": "code",
   "execution_count": 70,
   "id": "269ed262",
   "metadata": {},
   "outputs": [
    {
     "data": {
      "text/html": [
       "<div>\n",
       "<style scoped>\n",
       "    .dataframe tbody tr th:only-of-type {\n",
       "        vertical-align: middle;\n",
       "    }\n",
       "\n",
       "    .dataframe tbody tr th {\n",
       "        vertical-align: top;\n",
       "    }\n",
       "\n",
       "    .dataframe thead th {\n",
       "        text-align: right;\n",
       "    }\n",
       "</style>\n",
       "<table border=\"1\" class=\"dataframe\">\n",
       "  <thead>\n",
       "    <tr style=\"text-align: right;\">\n",
       "      <th></th>\n",
       "      <th>Performance</th>\n",
       "    </tr>\n",
       "  </thead>\n",
       "  <tbody>\n",
       "    <tr>\n",
       "      <th>0</th>\n",
       "      <td>Statistics</td>\n",
       "    </tr>\n",
       "    <tr>\n",
       "      <th>1</th>\n",
       "      <td>Python</td>\n",
       "    </tr>\n",
       "    <tr>\n",
       "      <th>2</th>\n",
       "      <td>Tableau</td>\n",
       "    </tr>\n",
       "  </tbody>\n",
       "</table>\n",
       "</div>"
      ],
      "text/plain": [
       "  Performance\n",
       "0  Statistics\n",
       "1      Python\n",
       "2     Tableau"
      ]
     },
     "execution_count": 70,
     "metadata": {},
     "output_type": "execute_result"
    }
   ],
   "source": [
    "best_df['Performance']=['Statistics','Python','Tableau']\n",
    "\n",
    "best_df"
   ]
  },
  {
   "cell_type": "code",
   "execution_count": 71,
   "id": "e7afdfbf",
   "metadata": {},
   "outputs": [
    {
     "data": {
      "text/html": [
       "<div>\n",
       "<style scoped>\n",
       "    .dataframe tbody tr th:only-of-type {\n",
       "        vertical-align: middle;\n",
       "    }\n",
       "\n",
       "    .dataframe tbody tr th {\n",
       "        vertical-align: top;\n",
       "    }\n",
       "\n",
       "    .dataframe thead th {\n",
       "        text-align: right;\n",
       "    }\n",
       "</style>\n",
       "<table border=\"1\" class=\"dataframe\">\n",
       "  <thead>\n",
       "    <tr style=\"text-align: right;\">\n",
       "      <th></th>\n",
       "    </tr>\n",
       "    <tr>\n",
       "      <th>Performance</th>\n",
       "    </tr>\n",
       "  </thead>\n",
       "  <tbody>\n",
       "    <tr>\n",
       "      <th>Statistics</th>\n",
       "    </tr>\n",
       "    <tr>\n",
       "      <th>Python</th>\n",
       "    </tr>\n",
       "    <tr>\n",
       "      <th>Tableau</th>\n",
       "    </tr>\n",
       "  </tbody>\n",
       "</table>\n",
       "</div>"
      ],
      "text/plain": [
       "Empty DataFrame\n",
       "Columns: []\n",
       "Index: [Statistics, Python, Tableau]"
      ]
     },
     "execution_count": 71,
     "metadata": {},
     "output_type": "execute_result"
    }
   ],
   "source": [
    "best_df.set_index('Performance', inplace=True)\n",
    "best_df"
   ]
  },
  {
   "cell_type": "code",
   "execution_count": 72,
   "id": "5455130e",
   "metadata": {},
   "outputs": [
    {
     "data": {
      "text/plain": [
       "Statistics    60.89\n",
       "Python        81.84\n",
       "Tableau       68.02\n",
       "dtype: float64"
      ]
     },
     "execution_count": 72,
     "metadata": {},
     "output_type": "execute_result"
    }
   ],
   "source": [
    "data.mean()"
   ]
  },
  {
   "cell_type": "code",
   "execution_count": 73,
   "id": "10ada96a",
   "metadata": {},
   "outputs": [
    {
     "data": {
      "text/plain": [
       "Statistics    7.236126\n",
       "Python        4.345484\n",
       "Tableau       7.320899\n",
       "dtype: float64"
      ]
     },
     "execution_count": 73,
     "metadata": {},
     "output_type": "execute_result"
    }
   ],
   "source": [
    "data.std()"
   ]
  },
  {
   "cell_type": "code",
   "execution_count": 74,
   "id": "453d8a4a",
   "metadata": {},
   "outputs": [
    {
     "data": {
      "text/plain": [
       "array([0.11824362, 0.05283116, 0.10708912])"
      ]
     },
     "execution_count": 74,
     "metadata": {},
     "output_type": "execute_result"
    }
   ],
   "source": [
    "import scipy.stats as st \n",
    "st.variation(data)"
   ]
  },
  {
   "cell_type": "code",
   "execution_count": 75,
   "id": "2272386d",
   "metadata": {},
   "outputs": [
    {
     "data": {
      "text/html": [
       "<div>\n",
       "<style scoped>\n",
       "    .dataframe tbody tr th:only-of-type {\n",
       "        vertical-align: middle;\n",
       "    }\n",
       "\n",
       "    .dataframe tbody tr th {\n",
       "        vertical-align: top;\n",
       "    }\n",
       "\n",
       "    .dataframe thead th {\n",
       "        text-align: right;\n",
       "    }\n",
       "</style>\n",
       "<table border=\"1\" class=\"dataframe\">\n",
       "  <thead>\n",
       "    <tr style=\"text-align: right;\">\n",
       "      <th></th>\n",
       "      <th>Mean</th>\n",
       "      <th>std_dev</th>\n",
       "      <th>CV</th>\n",
       "    </tr>\n",
       "    <tr>\n",
       "      <th>Performance</th>\n",
       "      <th></th>\n",
       "      <th></th>\n",
       "      <th></th>\n",
       "    </tr>\n",
       "  </thead>\n",
       "  <tbody>\n",
       "    <tr>\n",
       "      <th>Statistics</th>\n",
       "      <td>60.89</td>\n",
       "      <td>7.236126</td>\n",
       "      <td>0.118244</td>\n",
       "    </tr>\n",
       "    <tr>\n",
       "      <th>Python</th>\n",
       "      <td>81.84</td>\n",
       "      <td>4.345484</td>\n",
       "      <td>0.052831</td>\n",
       "    </tr>\n",
       "    <tr>\n",
       "      <th>Tableau</th>\n",
       "      <td>68.02</td>\n",
       "      <td>7.320899</td>\n",
       "      <td>0.107089</td>\n",
       "    </tr>\n",
       "  </tbody>\n",
       "</table>\n",
       "</div>"
      ],
      "text/plain": [
       "              Mean   std_dev        CV\n",
       "Performance                           \n",
       "Statistics   60.89  7.236126  0.118244\n",
       "Python       81.84  4.345484  0.052831\n",
       "Tableau      68.02  7.320899  0.107089"
      ]
     },
     "execution_count": 75,
     "metadata": {},
     "output_type": "execute_result"
    }
   ],
   "source": [
    "best_df['Mean'] = data.mean()\n",
    "best_df['std_dev'] = data.std()\n",
    "best_df['CV'] = st.variation(data)\n",
    "best_df"
   ]
  },
  {
   "cell_type": "markdown",
   "id": "694ff9ea",
   "metadata": {},
   "source": [
    "### Task - 3"
   ]
  },
  {
   "cell_type": "code",
   "execution_count": 76,
   "id": "2cc2879a",
   "metadata": {},
   "outputs": [],
   "source": [
    "ms_df = pd.DataFrame()"
   ]
  },
  {
   "cell_type": "code",
   "execution_count": 77,
   "id": "3621321c",
   "metadata": {},
   "outputs": [
    {
     "data": {
      "text/plain": [
       "Index(['Statistics', 'Python', 'Tableau'], dtype='object')"
      ]
     },
     "execution_count": 77,
     "metadata": {},
     "output_type": "execute_result"
    }
   ],
   "source": [
    "data.columns"
   ]
  },
  {
   "cell_type": "code",
   "execution_count": 78,
   "id": "0cdea0dc",
   "metadata": {},
   "outputs": [
    {
     "data": {
      "text/html": [
       "<div>\n",
       "<style scoped>\n",
       "    .dataframe tbody tr th:only-of-type {\n",
       "        vertical-align: middle;\n",
       "    }\n",
       "\n",
       "    .dataframe tbody tr th {\n",
       "        vertical-align: top;\n",
       "    }\n",
       "\n",
       "    .dataframe thead th {\n",
       "        text-align: right;\n",
       "    }\n",
       "</style>\n",
       "<table border=\"1\" class=\"dataframe\">\n",
       "  <thead>\n",
       "    <tr style=\"text-align: right;\">\n",
       "      <th></th>\n",
       "    </tr>\n",
       "    <tr>\n",
       "      <th>Most skewed</th>\n",
       "    </tr>\n",
       "  </thead>\n",
       "  <tbody>\n",
       "    <tr>\n",
       "      <th>Statistics</th>\n",
       "    </tr>\n",
       "    <tr>\n",
       "      <th>Python</th>\n",
       "    </tr>\n",
       "    <tr>\n",
       "      <th>Tableau</th>\n",
       "    </tr>\n",
       "  </tbody>\n",
       "</table>\n",
       "</div>"
      ],
      "text/plain": [
       "Empty DataFrame\n",
       "Columns: []\n",
       "Index: [Statistics, Python, Tableau]"
      ]
     },
     "execution_count": 78,
     "metadata": {},
     "output_type": "execute_result"
    }
   ],
   "source": [
    "ms_df['Most skewed'] = ['Statistics', 'Python', 'Tableau']\n",
    "ms_df.set_index('Most skewed', inplace = True)\n",
    "ms_df"
   ]
  },
  {
   "cell_type": "code",
   "execution_count": 79,
   "id": "4e98447d",
   "metadata": {},
   "outputs": [
    {
     "data": {
      "text/html": [
       "<div>\n",
       "<style scoped>\n",
       "    .dataframe tbody tr th:only-of-type {\n",
       "        vertical-align: middle;\n",
       "    }\n",
       "\n",
       "    .dataframe tbody tr th {\n",
       "        vertical-align: top;\n",
       "    }\n",
       "\n",
       "    .dataframe thead th {\n",
       "        text-align: right;\n",
       "    }\n",
       "</style>\n",
       "<table border=\"1\" class=\"dataframe\">\n",
       "  <thead>\n",
       "    <tr style=\"text-align: right;\">\n",
       "      <th></th>\n",
       "      <th>min</th>\n",
       "      <th>max</th>\n",
       "      <th>Range</th>\n",
       "      <th>Q1</th>\n",
       "      <th>Q3</th>\n",
       "      <th>IQR</th>\n",
       "      <th>LF</th>\n",
       "      <th>UF</th>\n",
       "    </tr>\n",
       "    <tr>\n",
       "      <th>Most skewed</th>\n",
       "      <th></th>\n",
       "      <th></th>\n",
       "      <th></th>\n",
       "      <th></th>\n",
       "      <th></th>\n",
       "      <th></th>\n",
       "      <th></th>\n",
       "      <th></th>\n",
       "    </tr>\n",
       "  </thead>\n",
       "  <tbody>\n",
       "    <tr>\n",
       "      <th>Statistics</th>\n",
       "      <td>50</td>\n",
       "      <td>74</td>\n",
       "      <td>24</td>\n",
       "      <td>54.0</td>\n",
       "      <td>67.00</td>\n",
       "      <td>13.00</td>\n",
       "      <td>34.500</td>\n",
       "      <td>86.500</td>\n",
       "    </tr>\n",
       "    <tr>\n",
       "      <th>Python</th>\n",
       "      <td>75</td>\n",
       "      <td>89</td>\n",
       "      <td>14</td>\n",
       "      <td>78.0</td>\n",
       "      <td>86.00</td>\n",
       "      <td>8.00</td>\n",
       "      <td>66.000</td>\n",
       "      <td>98.000</td>\n",
       "    </tr>\n",
       "    <tr>\n",
       "      <th>Tableau</th>\n",
       "      <td>45</td>\n",
       "      <td>79</td>\n",
       "      <td>34</td>\n",
       "      <td>64.0</td>\n",
       "      <td>73.25</td>\n",
       "      <td>9.25</td>\n",
       "      <td>50.125</td>\n",
       "      <td>87.125</td>\n",
       "    </tr>\n",
       "  </tbody>\n",
       "</table>\n",
       "</div>"
      ],
      "text/plain": [
       "             min  max  Range    Q1     Q3    IQR      LF      UF\n",
       "Most skewed                                                     \n",
       "Statistics    50   74     24  54.0  67.00  13.00  34.500  86.500\n",
       "Python        75   89     14  78.0  86.00   8.00  66.000  98.000\n",
       "Tableau       45   79     34  64.0  73.25   9.25  50.125  87.125"
      ]
     },
     "execution_count": 79,
     "metadata": {},
     "output_type": "execute_result"
    }
   ],
   "source": [
    "ms_df['min'] = data.min()\n",
    "ms_df['max'] = data.max()\n",
    "Range = ms_df['max'] - ms_df['min']\n",
    "ms_df['Range'] = Range\n",
    "ms_df['Q1']  = data.quantile(.25)  #Q1\n",
    "ms_df['Q3']  = data.quantile(.75)  #Q2\n",
    "ms_df['IQR'] = ms_df['Q3'] - ms_df['Q1']\n",
    "ms_df['LF']  = ms_df['Q1'] - (1.5 * ms_df['IQR'])\n",
    "ms_df['UF']  = ms_df['Q3'] + (1.5 * ms_df['IQR'])\n",
    "ms_df"
   ]
  },
  {
   "cell_type": "code",
   "execution_count": 80,
   "id": "b970b6ee",
   "metadata": {},
   "outputs": [
    {
     "data": {
      "text/html": [
       "<div>\n",
       "<style scoped>\n",
       "    .dataframe tbody tr th:only-of-type {\n",
       "        vertical-align: middle;\n",
       "    }\n",
       "\n",
       "    .dataframe tbody tr th {\n",
       "        vertical-align: top;\n",
       "    }\n",
       "\n",
       "    .dataframe thead th {\n",
       "        text-align: right;\n",
       "    }\n",
       "</style>\n",
       "<table border=\"1\" class=\"dataframe\">\n",
       "  <thead>\n",
       "    <tr style=\"text-align: right;\">\n",
       "      <th></th>\n",
       "      <th>min</th>\n",
       "      <th>max</th>\n",
       "      <th>Range</th>\n",
       "      <th>Q1</th>\n",
       "      <th>Q3</th>\n",
       "      <th>IQR</th>\n",
       "      <th>LF</th>\n",
       "      <th>UF</th>\n",
       "      <th>outlier</th>\n",
       "    </tr>\n",
       "    <tr>\n",
       "      <th>Most skewed</th>\n",
       "      <th></th>\n",
       "      <th></th>\n",
       "      <th></th>\n",
       "      <th></th>\n",
       "      <th></th>\n",
       "      <th></th>\n",
       "      <th></th>\n",
       "      <th></th>\n",
       "      <th></th>\n",
       "    </tr>\n",
       "  </thead>\n",
       "  <tbody>\n",
       "    <tr>\n",
       "      <th>Statistics</th>\n",
       "      <td>50</td>\n",
       "      <td>74</td>\n",
       "      <td>24</td>\n",
       "      <td>54.0</td>\n",
       "      <td>67.00</td>\n",
       "      <td>13.00</td>\n",
       "      <td>34.500</td>\n",
       "      <td>86.500</td>\n",
       "      <td>([], [])</td>\n",
       "    </tr>\n",
       "    <tr>\n",
       "      <th>Python</th>\n",
       "      <td>75</td>\n",
       "      <td>89</td>\n",
       "      <td>14</td>\n",
       "      <td>78.0</td>\n",
       "      <td>86.00</td>\n",
       "      <td>8.00</td>\n",
       "      <td>66.000</td>\n",
       "      <td>98.000</td>\n",
       "      <td>([], [])</td>\n",
       "    </tr>\n",
       "    <tr>\n",
       "      <th>Tableau</th>\n",
       "      <td>45</td>\n",
       "      <td>79</td>\n",
       "      <td>34</td>\n",
       "      <td>64.0</td>\n",
       "      <td>73.25</td>\n",
       "      <td>9.25</td>\n",
       "      <td>50.125</td>\n",
       "      <td>87.125</td>\n",
       "      <td>([45, 46, 46], [])</td>\n",
       "    </tr>\n",
       "  </tbody>\n",
       "</table>\n",
       "</div>"
      ],
      "text/plain": [
       "             min  max  Range    Q1     Q3    IQR      LF      UF  \\\n",
       "Most skewed                                                        \n",
       "Statistics    50   74     24  54.0  67.00  13.00  34.500  86.500   \n",
       "Python        75   89     14  78.0  86.00   8.00  66.000  98.000   \n",
       "Tableau       45   79     34  64.0  73.25   9.25  50.125  87.125   \n",
       "\n",
       "                        outlier  \n",
       "Most skewed                      \n",
       "Statistics             ([], [])  \n",
       "Python                 ([], [])  \n",
       "Tableau      ([45, 46, 46], [])  "
      ]
     },
     "execution_count": 80,
     "metadata": {},
     "output_type": "execute_result"
    }
   ],
   "source": [
    "def outlier(j,lf,uf):\n",
    "    L0 = []\n",
    "    U0 = []\n",
    "    for i in data[j]:\n",
    "        if i < lf:\n",
    "            L0.append(i)\n",
    "        elif i > uf:\n",
    "            U0.append(i)\n",
    "    return L0,U0\n",
    "outlier_list = []  # empty list\n",
    "\n",
    "outlier_list.append(outlier('Statistics',34,86))\n",
    "outlier_list.append(outlier('Python',66,98))\n",
    "outlier_list.append(outlier('Tableau',50,87))\n",
    "\n",
    "ms_df['outlier'] = outlier_list\n",
    "ms_df"
   ]
  },
  {
   "cell_type": "code",
   "execution_count": 81,
   "id": "19c3c26e",
   "metadata": {},
   "outputs": [],
   "source": [
    "import seaborn as sb"
   ]
  },
  {
   "cell_type": "code",
   "execution_count": 82,
   "id": "31c15baf",
   "metadata": {},
   "outputs": [
    {
     "data": {
      "text/plain": [
       "<Axes: xlabel='Statistics', ylabel='Density'>"
      ]
     },
     "execution_count": 82,
     "metadata": {},
     "output_type": "execute_result"
    },
    {
     "data": {
      "image/png": "[encoded data removed]",
      "text/plain": [
       "<Figure size 640x480 with 1 Axes>"
      ]
     },
     "metadata": {},
     "output_type": "display_data"
    }
   ],
   "source": [
    "sb.kdeplot(data['Statistics'],color='Red')\n",
    "sb.kdeplot(data['Python'],color='green')\n",
    "sb.kdeplot(data['Tableau'],color='blue') # tablue is left skewed data"
   ]
  },
  {
   "cell_type": "code",
   "execution_count": 83,
   "id": "196ca01f",
   "metadata": {},
   "outputs": [
    {
     "data": {
      "text/plain": [
       "array([ 0.20244564,  0.12096408, -0.99536021])"
      ]
     },
     "execution_count": 83,
     "metadata": {},
     "output_type": "execute_result"
    }
   ],
   "source": [
    "from scipy.stats import skew\n",
    "skew(data)"
   ]
  },
  {
   "cell_type": "markdown",
   "id": "830a3051",
   "metadata": {},
   "source": [
    "### Task - 4"
   ]
  },
  {
   "cell_type": "code",
   "execution_count": 86,
   "id": "70ae51ee",
   "metadata": {},
   "outputs": [
    {
     "data": {
      "image/png": "[encoded data removed]",
      "text/plain": [
       "<Figure size 640x480 with 1 Axes>"
      ]
     },
     "metadata": {},
     "output_type": "display_data"
    }
   ],
   "source": [
    "import seaborn as sb\n",
    "import matplotlib.pyplot as plt\n",
    "\n",
    "# Assuming 'data' is your DataFrame containing subject scores\n",
    "\n",
    "# Create a boxplot for each subject's scores\n",
    "\n",
    "sb.boxplot(data=data)\n",
    "plt.title('Distribution of Scores in Different Subjects')\n",
    "plt.ylabel('Scores')\n",
    "plt.xlabel('Subjects')\n",
    "\n",
    "plt.show()\n"
   ]
  },
  {
   "cell_type": "code",
   "execution_count": 85,
   "id": "7f984b7c",
   "metadata": {},
   "outputs": [
    {
     "data": {
      "text/plain": [
       "array([ 0.20244564,  0.12096408, -0.99536021])"
      ]
     },
     "execution_count": 85,
     "metadata": {},
     "output_type": "execute_result"
    }
   ],
   "source": [
    "from scipy.stats import skew\n",
    "skew(data)"
   ]
  },
  {
   "cell_type": "markdown",
   "id": "861a7eb9",
   "metadata": {},
   "source": [
    "### Task - 5"
   ]
  },
  {
   "cell_type": "code",
   "execution_count": 93,
   "id": "c25e642e",
   "metadata": {},
   "outputs": [
    {
     "name": "stderr",
     "output_type": "stream",
     "text": [
      "C:\\Users\\HP\\AppData\\Local\\Temp\\ipykernel_21892\\2049844216.py:10: UserWarning: \n",
      "\n",
      "`distplot` is a deprecated function and will be removed in seaborn v0.14.0.\n",
      "\n",
      "Please adapt your code to use either `displot` (a figure-level function with\n",
      "similar flexibility) or `histplot` (an axes-level function for histograms).\n",
      "\n",
      "For a guide to updating your code to use the new functions, please see\n",
      "https://gist.github.com/mwaskom/de44147ed2974457ad6372750bbe5751\n",
      "\n",
      "  sb.distplot(data['Statistics'])\n",
      "C:\\Users\\HP\\AppData\\Local\\Temp\\ipykernel_21892\\2049844216.py:11: UserWarning: \n",
      "\n",
      "`distplot` is a deprecated function and will be removed in seaborn v0.14.0.\n",
      "\n",
      "Please adapt your code to use either `displot` (a figure-level function with\n",
      "similar flexibility) or `histplot` (an axes-level function for histograms).\n",
      "\n",
      "For a guide to updating your code to use the new functions, please see\n",
      "https://gist.github.com/mwaskom/de44147ed2974457ad6372750bbe5751\n",
      "\n",
      "  sb.distplot(data['Python'])\n",
      "C:\\Users\\HP\\AppData\\Local\\Temp\\ipykernel_21892\\2049844216.py:12: UserWarning: \n",
      "\n",
      "`distplot` is a deprecated function and will be removed in seaborn v0.14.0.\n",
      "\n",
      "Please adapt your code to use either `displot` (a figure-level function with\n",
      "similar flexibility) or `histplot` (an axes-level function for histograms).\n",
      "\n",
      "For a guide to updating your code to use the new functions, please see\n",
      "https://gist.github.com/mwaskom/de44147ed2974457ad6372750bbe5751\n",
      "\n",
      "  sb.distplot(data['Tableau'])\n",
      "No artists with labels found to put in legend.  Note that artists whose label start with an underscore are ignored when legend() is called with no argument.\n"
     ]
    },
    {
     "data": {
      "image/png": "[encoded data removed]",
      "text/plain": [
       "<Figure size 800x600 with 1 Axes>"
      ]
     },
     "metadata": {},
     "output_type": "display_data"
    }
   ],
   "source": [
    "import seaborn as sb\n",
    "import matplotlib.pyplot as plt\n",
    "\n",
    "# Assuming 'data' is your DataFrame containing subject scores\n",
    "\n",
    "plt.figure(figsize=(8, 6))  # Create a figure with a specific size\n",
    "\n",
    "# Plot normal distribution curves for each subject\n",
    "#for column in data.columns:\n",
    "sb.distplot(data['Statistics'])\n",
    "sb.distplot(data['Python'])\n",
    "sb.distplot(data['Tableau'])\n",
    "\n",
    "plt.title('Distribution of Scores in Different Subjects (Normal Distribution)')\n",
    "plt.xlabel('Scores')\n",
    "plt.ylabel('Density')\n",
    "plt.legend()  # Show labels for each subject\n",
    "plt.show()\n"
   ]
  },
  {
   "cell_type": "code",
   "execution_count": 94,
   "id": "78383744",
   "metadata": {},
   "outputs": [
    {
     "data": {
      "text/plain": [
       "array([-1.28903437, -1.27485291,  1.44245905])"
      ]
     },
     "execution_count": 94,
     "metadata": {},
     "output_type": "execute_result"
    }
   ],
   "source": [
    "from scipy.stats import kurtosis\n",
    "kurtosis(data) "
   ]
  },
  {
   "cell_type": "code",
   "execution_count": null,
   "id": "16010e19",
   "metadata": {},
   "outputs": [],
   "source": []
  }
 ],
 "metadata": {
  "kernelspec": {
   "display_name": "Python 3 (ipykernel)",
   "language": "python",
   "name": "python3"
  },
  "language_info": {
   "codemirror_mode": {
    "name": "ipython",
    "version": 3
   },
   "file_extension": ".py",
   "mimetype": "text/x-python",
   "name": "python",
   "nbconvert_exporter": "python",
   "pygments_lexer": "ipython3",
   "version": "3.11.5"
  }
 },
 "nbformat": 4,
 "nbformat_minor": 5
}
